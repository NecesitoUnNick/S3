{
 "cells": [
  {
   "cell_type": "markdown",
   "metadata": {},
   "source": [
    "# Exercise 12"
   ]
  },
  {
   "cell_type": "markdown",
   "metadata": {},
   "source": [
    "## Integrantes\n",
    "\n",
    "* Diana Díaz - Cod. 201331684\n",
    "* Carlos Silva - Cod. 201920463 \n",
    "* Javier Lesmes - Cod. 200820243"
   ]
  },
  {
   "cell_type": "markdown",
   "metadata": {},
   "source": [
    "## Analyze how travelers expressed their feelings on Twitter\n",
    "\n",
    "A sentiment analysis job about the problems of each major U.S. airline. \n",
    "Twitter data was scraped from February of 2015 and contributors were \n",
    "asked to first classify positive, negative, and neutral tweets, followed\n",
    "by categorizing negative reasons (such as \"late flight\" or \"rude service\")."
   ]
  },
  {
   "cell_type": "code",
   "execution_count": 1,
   "metadata": {},
   "outputs": [
    {
     "output_type": "execute_result",
     "data": {
      "text/plain": "                   airline_sentiment  airline_sentiment_confidence  \\\ntweet_id                                                             \n570306133677760513           neutral                        1.0000   \n570301130888122368          positive                        0.3486   \n570301083672813571           neutral                        0.6837   \n570301031407624196          negative                        1.0000   \n570300817074462722          negative                        1.0000   \n570300767074181121          negative                        1.0000   \n570300616901320704          positive                        0.6745   \n570300248553349120           neutral                        0.6340   \n570299953286942721          positive                        0.6559   \n570295459631263746          positive                        1.0000   \n\n                   negativereason  negativereason_confidence         airline  \\\ntweet_id                                                                       \n570306133677760513            NaN                        NaN  Virgin America   \n570301130888122368            NaN                     0.0000  Virgin America   \n570301083672813571            NaN                        NaN  Virgin America   \n570301031407624196     Bad Flight                     0.7033  Virgin America   \n570300817074462722     Can't Tell                     1.0000  Virgin America   \n570300767074181121     Can't Tell                     0.6842  Virgin America   \n570300616901320704            NaN                     0.0000  Virgin America   \n570300248553349120            NaN                        NaN  Virgin America   \n570299953286942721            NaN                        NaN  Virgin America   \n570295459631263746            NaN                        NaN  Virgin America   \n\n                   airline_sentiment_gold        name negativereason_gold  \\\ntweet_id                                                                    \n570306133677760513                    NaN     cairdin                 NaN   \n570301130888122368                    NaN    jnardino                 NaN   \n570301083672813571                    NaN  yvonnalynn                 NaN   \n570301031407624196                    NaN    jnardino                 NaN   \n570300817074462722                    NaN    jnardino                 NaN   \n570300767074181121                    NaN    jnardino                 NaN   \n570300616901320704                    NaN  cjmcginnis                 NaN   \n570300248553349120                    NaN       pilot                 NaN   \n570299953286942721                    NaN    dhepburn                 NaN   \n570295459631263746                    NaN  YupitsTate                 NaN   \n\n                    retweet_count  \\\ntweet_id                            \n570306133677760513              0   \n570301130888122368              0   \n570301083672813571              0   \n570301031407624196              0   \n570300817074462722              0   \n570300767074181121              0   \n570300616901320704              0   \n570300248553349120              0   \n570299953286942721              0   \n570295459631263746              0   \n\n                                                                 text  \\\ntweet_id                                                                \n570306133677760513                @VirginAmerica What @dhepburn said.   \n570301130888122368  @VirginAmerica plus you've added commercials t...   \n570301083672813571  @VirginAmerica I didn't today... Must mean I n...   \n570301031407624196  @VirginAmerica it's really aggressive to blast...   \n570300817074462722  @VirginAmerica and it's a really big bad thing...   \n570300767074181121  @VirginAmerica seriously would pay $30 a fligh...   \n570300616901320704  @VirginAmerica yes, nearly every time I fly VX...   \n570300248553349120  @VirginAmerica Really missed a prime opportuni...   \n570299953286942721    @virginamerica Well, I didn't…but NOW I DO! :-D   \n570295459631263746  @VirginAmerica it was amazing, and arrived an ...   \n\n                   tweet_coord              tweet_created    tweet_location  \\\ntweet_id                                                                      \n570306133677760513         NaN  2015-02-24 11:35:52 -0800               NaN   \n570301130888122368         NaN  2015-02-24 11:15:59 -0800               NaN   \n570301083672813571         NaN  2015-02-24 11:15:48 -0800         Lets Play   \n570301031407624196         NaN  2015-02-24 11:15:36 -0800               NaN   \n570300817074462722         NaN  2015-02-24 11:14:45 -0800               NaN   \n570300767074181121         NaN  2015-02-24 11:14:33 -0800               NaN   \n570300616901320704         NaN  2015-02-24 11:13:57 -0800  San Francisco CA   \n570300248553349120         NaN  2015-02-24 11:12:29 -0800       Los Angeles   \n570299953286942721         NaN  2015-02-24 11:11:19 -0800         San Diego   \n570295459631263746         NaN  2015-02-24 10:53:27 -0800       Los Angeles   \n\n                                 user_timezone  \ntweet_id                                        \n570306133677760513  Eastern Time (US & Canada)  \n570301130888122368  Pacific Time (US & Canada)  \n570301083672813571  Central Time (US & Canada)  \n570301031407624196  Pacific Time (US & Canada)  \n570300817074462722  Pacific Time (US & Canada)  \n570300767074181121  Pacific Time (US & Canada)  \n570300616901320704  Pacific Time (US & Canada)  \n570300248553349120  Pacific Time (US & Canada)  \n570299953286942721  Pacific Time (US & Canada)  \n570295459631263746  Eastern Time (US & Canada)  ",
      "text/html": "<div>\n<style scoped>\n    .dataframe tbody tr th:only-of-type {\n        vertical-align: middle;\n    }\n\n    .dataframe tbody tr th {\n        vertical-align: top;\n    }\n\n    .dataframe thead th {\n        text-align: right;\n    }\n</style>\n<table border=\"1\" class=\"dataframe\">\n  <thead>\n    <tr style=\"text-align: right;\">\n      <th></th>\n      <th>airline_sentiment</th>\n      <th>airline_sentiment_confidence</th>\n      <th>negativereason</th>\n      <th>negativereason_confidence</th>\n      <th>airline</th>\n      <th>airline_sentiment_gold</th>\n      <th>name</th>\n      <th>negativereason_gold</th>\n      <th>retweet_count</th>\n      <th>text</th>\n      <th>tweet_coord</th>\n      <th>tweet_created</th>\n      <th>tweet_location</th>\n      <th>user_timezone</th>\n    </tr>\n    <tr>\n      <th>tweet_id</th>\n      <th></th>\n      <th></th>\n      <th></th>\n      <th></th>\n      <th></th>\n      <th></th>\n      <th></th>\n      <th></th>\n      <th></th>\n      <th></th>\n      <th></th>\n      <th></th>\n      <th></th>\n      <th></th>\n    </tr>\n  </thead>\n  <tbody>\n    <tr>\n      <th>570306133677760513</th>\n      <td>neutral</td>\n      <td>1.0000</td>\n      <td>NaN</td>\n      <td>NaN</td>\n      <td>Virgin America</td>\n      <td>NaN</td>\n      <td>cairdin</td>\n      <td>NaN</td>\n      <td>0</td>\n      <td>@VirginAmerica What @dhepburn said.</td>\n      <td>NaN</td>\n      <td>2015-02-24 11:35:52 -0800</td>\n      <td>NaN</td>\n      <td>Eastern Time (US &amp; Canada)</td>\n    </tr>\n    <tr>\n      <th>570301130888122368</th>\n      <td>positive</td>\n      <td>0.3486</td>\n      <td>NaN</td>\n      <td>0.0000</td>\n      <td>Virgin America</td>\n      <td>NaN</td>\n      <td>jnardino</td>\n      <td>NaN</td>\n      <td>0</td>\n      <td>@VirginAmerica plus you've added commercials t...</td>\n      <td>NaN</td>\n      <td>2015-02-24 11:15:59 -0800</td>\n      <td>NaN</td>\n      <td>Pacific Time (US &amp; Canada)</td>\n    </tr>\n    <tr>\n      <th>570301083672813571</th>\n      <td>neutral</td>\n      <td>0.6837</td>\n      <td>NaN</td>\n      <td>NaN</td>\n      <td>Virgin America</td>\n      <td>NaN</td>\n      <td>yvonnalynn</td>\n      <td>NaN</td>\n      <td>0</td>\n      <td>@VirginAmerica I didn't today... Must mean I n...</td>\n      <td>NaN</td>\n      <td>2015-02-24 11:15:48 -0800</td>\n      <td>Lets Play</td>\n      <td>Central Time (US &amp; Canada)</td>\n    </tr>\n    <tr>\n      <th>570301031407624196</th>\n      <td>negative</td>\n      <td>1.0000</td>\n      <td>Bad Flight</td>\n      <td>0.7033</td>\n      <td>Virgin America</td>\n      <td>NaN</td>\n      <td>jnardino</td>\n      <td>NaN</td>\n      <td>0</td>\n      <td>@VirginAmerica it's really aggressive to blast...</td>\n      <td>NaN</td>\n      <td>2015-02-24 11:15:36 -0800</td>\n      <td>NaN</td>\n      <td>Pacific Time (US &amp; Canada)</td>\n    </tr>\n    <tr>\n      <th>570300817074462722</th>\n      <td>negative</td>\n      <td>1.0000</td>\n      <td>Can't Tell</td>\n      <td>1.0000</td>\n      <td>Virgin America</td>\n      <td>NaN</td>\n      <td>jnardino</td>\n      <td>NaN</td>\n      <td>0</td>\n      <td>@VirginAmerica and it's a really big bad thing...</td>\n      <td>NaN</td>\n      <td>2015-02-24 11:14:45 -0800</td>\n      <td>NaN</td>\n      <td>Pacific Time (US &amp; Canada)</td>\n    </tr>\n    <tr>\n      <th>570300767074181121</th>\n      <td>negative</td>\n      <td>1.0000</td>\n      <td>Can't Tell</td>\n      <td>0.6842</td>\n      <td>Virgin America</td>\n      <td>NaN</td>\n      <td>jnardino</td>\n      <td>NaN</td>\n      <td>0</td>\n      <td>@VirginAmerica seriously would pay $30 a fligh...</td>\n      <td>NaN</td>\n      <td>2015-02-24 11:14:33 -0800</td>\n      <td>NaN</td>\n      <td>Pacific Time (US &amp; Canada)</td>\n    </tr>\n    <tr>\n      <th>570300616901320704</th>\n      <td>positive</td>\n      <td>0.6745</td>\n      <td>NaN</td>\n      <td>0.0000</td>\n      <td>Virgin America</td>\n      <td>NaN</td>\n      <td>cjmcginnis</td>\n      <td>NaN</td>\n      <td>0</td>\n      <td>@VirginAmerica yes, nearly every time I fly VX...</td>\n      <td>NaN</td>\n      <td>2015-02-24 11:13:57 -0800</td>\n      <td>San Francisco CA</td>\n      <td>Pacific Time (US &amp; Canada)</td>\n    </tr>\n    <tr>\n      <th>570300248553349120</th>\n      <td>neutral</td>\n      <td>0.6340</td>\n      <td>NaN</td>\n      <td>NaN</td>\n      <td>Virgin America</td>\n      <td>NaN</td>\n      <td>pilot</td>\n      <td>NaN</td>\n      <td>0</td>\n      <td>@VirginAmerica Really missed a prime opportuni...</td>\n      <td>NaN</td>\n      <td>2015-02-24 11:12:29 -0800</td>\n      <td>Los Angeles</td>\n      <td>Pacific Time (US &amp; Canada)</td>\n    </tr>\n    <tr>\n      <th>570299953286942721</th>\n      <td>positive</td>\n      <td>0.6559</td>\n      <td>NaN</td>\n      <td>NaN</td>\n      <td>Virgin America</td>\n      <td>NaN</td>\n      <td>dhepburn</td>\n      <td>NaN</td>\n      <td>0</td>\n      <td>@virginamerica Well, I didn't…but NOW I DO! :-D</td>\n      <td>NaN</td>\n      <td>2015-02-24 11:11:19 -0800</td>\n      <td>San Diego</td>\n      <td>Pacific Time (US &amp; Canada)</td>\n    </tr>\n    <tr>\n      <th>570295459631263746</th>\n      <td>positive</td>\n      <td>1.0000</td>\n      <td>NaN</td>\n      <td>NaN</td>\n      <td>Virgin America</td>\n      <td>NaN</td>\n      <td>YupitsTate</td>\n      <td>NaN</td>\n      <td>0</td>\n      <td>@VirginAmerica it was amazing, and arrived an ...</td>\n      <td>NaN</td>\n      <td>2015-02-24 10:53:27 -0800</td>\n      <td>Los Angeles</td>\n      <td>Eastern Time (US &amp; Canada)</td>\n    </tr>\n  </tbody>\n</table>\n</div>"
     },
     "metadata": {},
     "execution_count": 1
    }
   ],
   "source": [
    "import pandas as pd\n",
    "import numpy as np\n",
    "\n",
    "%matplotlib inline\n",
    "import matplotlib.pyplot as plt\n",
    "\n",
    "# read the data and set the datetime as the index\n",
    "tweets = pd.read_csv('https://github.com/albahnsen/PracticalMachineLearningClass/raw/master/datasets/Tweets.zip', index_col=0)\n",
    "\n",
    "tweets.head(10)"
   ]
  },
  {
   "cell_type": "code",
   "execution_count": 2,
   "metadata": {},
   "outputs": [
    {
     "data": {
      "text/plain": [
       "(14640, 14)"
      ]
     },
     "execution_count": 2,
     "metadata": {},
     "output_type": "execute_result"
    }
   ],
   "source": [
    "tweets.shape"
   ]
  },
  {
   "cell_type": "markdown",
   "metadata": {},
   "source": [
    "### Proportion of tweets with each sentiment\n",
    "\n",
    "La variable airline_sentiment tiene tres niveles: negativo, neutro y positivo"
   ]
  },
  {
   "cell_type": "code",
   "execution_count": 3,
   "metadata": {},
   "outputs": [
    {
     "data": {
      "text/plain": [
       "negative    9178\n",
       "neutral     3099\n",
       "positive    2363\n",
       "Name: airline_sentiment, dtype: int64"
      ]
     },
     "execution_count": 3,
     "metadata": {},
     "output_type": "execute_result"
    }
   ],
   "source": [
    "tweets['airline_sentiment'].value_counts()"
   ]
  },
  {
   "cell_type": "markdown",
   "metadata": {},
   "source": [
    "### Proportion of tweets per airline\n",
    "La data contiene información de 6 aerolíneas, *United* es las más tuiteada con el 26.1% y la menos Virgin America con el 3.4% \n",
    "También se observa en el último grafico de barras (Sentiment by airline) que la categoría de sentimientos negativos es la más prevalente dentro de cada aerolínea. "
   ]
  },
  {
   "cell_type": "code",
   "execution_count": 4,
   "metadata": {},
   "outputs": [
    {
     "data": {
      "text/plain": [
       "United            26.106557\n",
       "US Airways        19.897541\n",
       "American          18.845628\n",
       "Southwest         16.530055\n",
       "Delta             15.177596\n",
       "Virgin America     3.442623\n",
       "Name: airline, dtype: float64"
      ]
     },
     "execution_count": 4,
     "metadata": {},
     "output_type": "execute_result"
    }
   ],
   "source": [
    "tweets['airline'].value_counts()/14640*100"
   ]
  },
  {
   "cell_type": "code",
   "execution_count": 5,
   "metadata": {},
   "outputs": [
    {
     "data": {
      "image/png": "[encoded data removed]",
      "text/plain": [
       "<Figure size 576x432 with 1 Axes>"
      ]
     },
     "metadata": {
      "needs_background": "light"
     },
     "output_type": "display_data"
    }
   ],
   "source": [
    "pd.Series(tweets[\"airline\"]).value_counts().plot(kind = \"bar\",figsize=(8,6),rot = 0);"
   ]
  },
  {
   "cell_type": "code",
   "execution_count": 6,
   "metadata": {},
   "outputs": [
    {
     "data": {
      "image/png": "[encoded data removed]",
      "text/plain": [
       "<Figure size 720x432 with 1 Axes>"
      ]
     },
     "metadata": {
      "needs_background": "light"
     },
     "output_type": "display_data"
    }
   ],
   "source": [
    "pd.crosstab(index = tweets[\"airline\"],columns = tweets[\"airline_sentiment\"]).plot(kind='bar',figsize=(10, 6),alpha=0.5,rot=0,stacked=True,title=\"Sentiment by airline\");"
   ]
  },
  {
   "cell_type": "markdown",
   "metadata": {},
   "source": [
    "# Exercise 12.1 \n",
    "\n",
    "Predict the sentiment using CountVectorizer\n",
    "\n",
    "use Random Forest classifier"
   ]
  },
  {
   "cell_type": "markdown",
   "metadata": {},
   "source": [
    "#### Valores perdidos\n",
    "\n",
    "Las variables airline_sentiment y text no tienen registros perdidos.\n"
   ]
  },
  {
   "cell_type": "code",
   "execution_count": 7,
   "metadata": {},
   "outputs": [
    {
     "data": {
      "text/plain": [
       "0"
      ]
     },
     "execution_count": 7,
     "metadata": {},
     "output_type": "execute_result"
    }
   ],
   "source": [
    "tweets['text'].isnull().sum()"
   ]
  },
  {
   "cell_type": "markdown",
   "metadata": {},
   "source": [
    "#### Vector (y) y tabla (X) \n",
    "\n",
    "* El número de tweets es 14.640 y, por tanto, X como y tienen ese número de registros\n",
    "* X correspond a la varible texto. \n",
    "* La variable y corresponde a airline_sentiment con las categorías renombradas como -1, 0, 1"
   ]
  },
  {
   "cell_type": "code",
   "execution_count": 8,
   "metadata": {},
   "outputs": [],
   "source": [
    "X = tweets['text']\n",
    "y = tweets['airline_sentiment'].map({'negative':-1,'neutral':0,'positive':1})"
   ]
  },
  {
   "cell_type": "code",
   "execution_count": 9,
   "metadata": {},
   "outputs": [
    {
     "data": {
      "text/plain": [
       "tweet_id\n",
       "570306133677760513                  @VirginAmerica What @dhepburn said.\n",
       "570301130888122368    @VirginAmerica plus you've added commercials t...\n",
       "570301083672813571    @VirginAmerica I didn't today... Must mean I n...\n",
       "570301031407624196    @VirginAmerica it's really aggressive to blast...\n",
       "Name: text, dtype: object"
      ]
     },
     "execution_count": 9,
     "metadata": {},
     "output_type": "execute_result"
    }
   ],
   "source": [
    "X.iloc[0:4] # los primeros tweets"
   ]
  },
  {
   "cell_type": "code",
   "execution_count": 10,
   "metadata": {},
   "outputs": [],
   "source": [
    "from sklearn.model_selection import train_test_split, cross_val_score\n",
    "from sklearn.feature_extraction.text import CountVectorizer, TfidfVectorizer\n",
    "from sklearn.ensemble import RandomForestClassifier as RFC\n",
    "from nltk.stem.snowball import SnowballStemmer\n",
    "from nltk.stem import WordNetLemmatizer\n",
    "import numpy as np\n",
    "from sklearn.tree import DecisionTreeClassifier"
   ]
  },
  {
   "cell_type": "markdown",
   "metadata": {},
   "source": [
    "### A. CountVectorizer\n",
    "\n",
    "Se aplica CountVectorizer a la tabla X y posteriormente Todense, lo cual nos permite crear la tabla temp, que es un arreglo de 14.640 filas (tweets) x 15.051 columnas (palabras). Este arreglo contiene el número de veces que una palabras aparece por tweet, así que puede contener valores como 0, 1, 2, ..."
   ]
  },
  {
   "cell_type": "code",
   "execution_count": 11,
   "metadata": {},
   "outputs": [
    {
     "data": {
      "text/plain": [
       "matrix([[0, 0, 0, ..., 0, 0, 0],\n",
       "        [0, 0, 0, ..., 0, 0, 0],\n",
       "        [0, 0, 0, ..., 0, 0, 0],\n",
       "        ...,\n",
       "        [0, 0, 0, ..., 0, 0, 0],\n",
       "        [0, 0, 0, ..., 0, 0, 0],\n",
       "        [0, 0, 0, ..., 0, 0, 0]], dtype=int64)"
      ]
     },
     "execution_count": 11,
     "metadata": {},
     "output_type": "execute_result"
    }
   ],
   "source": [
    "vect = CountVectorizer() # por default pasa todas las pabablas a minuscula (lowercase)\n",
    "X_dtm = vect.fit_transform(X)\n",
    "temp=X_dtm.todense()\n",
    "temp"
   ]
  },
  {
   "cell_type": "code",
   "execution_count": 12,
   "metadata": {},
   "outputs": [
    {
     "data": {
      "text/plain": [
       "(14640, 15051)"
      ]
     },
     "execution_count": 12,
     "metadata": {},
     "output_type": "execute_result"
    }
   ],
   "source": [
    "temp.shape"
   ]
  },
  {
   "cell_type": "code",
   "execution_count": 13,
   "metadata": {},
   "outputs": [
    {
     "name": "stdout",
     "output_type": "stream",
     "text": [
      "['oversleeping', 'oversold', 'overtime', 'overweight', 'overwhelmed', 'overwhelming', 'overzealous', 'oveur', 'ow', 'owe', 'owed', 'owen', 'owes', 'owmaxoyehz', 'own', 'owner', 'ownership', 'owning', 'ox4w6ktsgi', 'oxgen']\n"
     ]
    }
   ],
   "source": [
    "print(vect.get_feature_names()[10000:10020]) # imprime los tokens de las columnas 10.000 a 10.200: oversleeping, oversold, ..."
   ]
  },
  {
   "cell_type": "code",
   "execution_count": 14,
   "metadata": {},
   "outputs": [
    {
     "data": {
      "text/html": [
       "<div>\n",
       "<style scoped>\n",
       "    .dataframe tbody tr th:only-of-type {\n",
       "        vertical-align: middle;\n",
       "    }\n",
       "\n",
       "    .dataframe tbody tr th {\n",
       "        vertical-align: top;\n",
       "    }\n",
       "\n",
       "    .dataframe thead th {\n",
       "        text-align: right;\n",
       "    }\n",
       "</style>\n",
       "<table border=\"1\" class=\"dataframe\">\n",
       "  <thead>\n",
       "    <tr style=\"text-align: right;\">\n",
       "      <th></th>\n",
       "      <th>00</th>\n",
       "      <th>000</th>\n",
       "      <th>000114</th>\n",
       "      <th>000419</th>\n",
       "      <th>000ft</th>\n",
       "      <th>000lbs</th>\n",
       "      <th>0011</th>\n",
       "      <th>0016</th>\n",
       "      <th>00a</th>\n",
       "      <th>00am</th>\n",
       "      <th>...</th>\n",
       "      <th>zrh_airport</th>\n",
       "      <th>zsdgzydnde</th>\n",
       "      <th>zsuztnaijq</th>\n",
       "      <th>ztrdwv0n4l</th>\n",
       "      <th>zukes</th>\n",
       "      <th>zurich</th>\n",
       "      <th>zv2pt6trk9</th>\n",
       "      <th>zv6cfpohl5</th>\n",
       "      <th>zvfmxnuelj</th>\n",
       "      <th>zzps5ywve2</th>\n",
       "    </tr>\n",
       "  </thead>\n",
       "  <tbody>\n",
       "    <tr>\n",
       "      <th>0</th>\n",
       "      <td>0</td>\n",
       "      <td>0</td>\n",
       "      <td>0</td>\n",
       "      <td>0</td>\n",
       "      <td>0</td>\n",
       "      <td>0</td>\n",
       "      <td>0</td>\n",
       "      <td>0</td>\n",
       "      <td>0</td>\n",
       "      <td>0</td>\n",
       "      <td>...</td>\n",
       "      <td>0</td>\n",
       "      <td>0</td>\n",
       "      <td>0</td>\n",
       "      <td>0</td>\n",
       "      <td>0</td>\n",
       "      <td>0</td>\n",
       "      <td>0</td>\n",
       "      <td>0</td>\n",
       "      <td>0</td>\n",
       "      <td>0</td>\n",
       "    </tr>\n",
       "    <tr>\n",
       "      <th>1</th>\n",
       "      <td>0</td>\n",
       "      <td>0</td>\n",
       "      <td>0</td>\n",
       "      <td>0</td>\n",
       "      <td>0</td>\n",
       "      <td>0</td>\n",
       "      <td>0</td>\n",
       "      <td>0</td>\n",
       "      <td>0</td>\n",
       "      <td>0</td>\n",
       "      <td>...</td>\n",
       "      <td>0</td>\n",
       "      <td>0</td>\n",
       "      <td>0</td>\n",
       "      <td>0</td>\n",
       "      <td>0</td>\n",
       "      <td>0</td>\n",
       "      <td>0</td>\n",
       "      <td>0</td>\n",
       "      <td>0</td>\n",
       "      <td>0</td>\n",
       "    </tr>\n",
       "  </tbody>\n",
       "</table>\n",
       "<p>2 rows × 15051 columns</p>\n",
       "</div>"
      ],
      "text/plain": [
       "   00  000  000114  000419  000ft  000lbs  0011  0016  00a  00am  ...  \\\n",
       "0   0    0       0       0      0       0     0     0    0     0  ...   \n",
       "1   0    0       0       0      0       0     0     0    0     0  ...   \n",
       "\n",
       "   zrh_airport  zsdgzydnde  zsuztnaijq  ztrdwv0n4l  zukes  zurich  zv2pt6trk9  \\\n",
       "0            0           0           0           0      0       0           0   \n",
       "1            0           0           0           0      0       0           0   \n",
       "\n",
       "   zv6cfpohl5  zvfmxnuelj  zzps5ywve2  \n",
       "0           0           0           0  \n",
       "1           0           0           0  \n",
       "\n",
       "[2 rows x 15051 columns]"
      ]
     },
     "execution_count": 14,
     "metadata": {},
     "output_type": "execute_result"
    }
   ],
   "source": [
    "data = pd.DataFrame(temp, columns=vect.get_feature_names())\n",
    "data.head(2) # se puede ver en la tabla que el nombre de las columnas corresponde a los tokens"
   ]
  },
  {
   "cell_type": "code",
   "execution_count": 15,
   "metadata": {},
   "outputs": [
    {
     "data": {
      "text/plain": [
       "4"
      ]
     },
     "execution_count": 15,
     "metadata": {},
     "output_type": "execute_result"
    }
   ],
   "source": [
    "data.iloc[0 , 1:15051].sum() # el primer tweet tiene 4 tokens"
   ]
  },
  {
   "cell_type": "markdown",
   "metadata": {},
   "source": [
    "#### Gráfico de los primeros 50 tokens\n",
    "Como se observa en el siguiente gráfico, los tokens más frecuentes son: to, the, you, united, for, flight, on, and, my, usairlines, americanair, entre otros."
   ]
  },
  {
   "cell_type": "code",
   "execution_count": 16,
   "metadata": {},
   "outputs": [
    {
     "name": "stderr",
     "output_type": "stream",
     "text": [
      "C:\\Users\\Javier_Lesmes\\anaconda3\\lib\\site-packages\\sklearn\\utils\\deprecation.py:144: FutureWarning: The sklearn.metrics.classification module is  deprecated in version 0.22 and will be removed in version 0.24. The corresponding classes / functions should instead be imported from sklearn.metrics. Anything that cannot be imported from sklearn.metrics is now part of the private API.\n",
      "  warnings.warn(message, FutureWarning)\n"
     ]
    },
    {
     "data": {
      "image/png": "[encoded data removed]",
      "text/plain": [
       "<Figure size 576x396 with 1 Axes>"
      ]
     },
     "metadata": {},
     "output_type": "display_data"
    }
   ],
   "source": [
    "from yellowbrick.text import FreqDistVisualizer;\n",
    "features   = vect.get_feature_names()\n",
    "visualizer = FreqDistVisualizer(features=features, orient='v')\n",
    "visualizer.fit(X_dtm)\n",
    "visualizer.show();"
   ]
  },
  {
   "cell_type": "markdown",
   "metadata": {},
   "source": [
    "### B. Predecir los sentimientos hacia las aerolineas (airline_sentiment) usando Random classifier\n",
    "\n",
    "Ejecutamos un random classifier y definimos la función tokenize_test que acepta un vectorizer y calcula el accuracy. \n",
    "Se mantienen los mismo parámetros para el clasificador en todos los casos, buscando comparabilidad entre las transformación hechas al corpus."
   ]
  },
  {
   "cell_type": "code",
   "execution_count": 17,
   "metadata": {},
   "outputs": [],
   "source": [
    "np.random.seed(123)\n",
    "def tokenize_test(vect):\n",
    "    X_dtm = vect.fit_transform(X)\n",
    "    print('Features: ', X_dtm.shape[1])\n",
    "    nb = RFC(n_estimators=10, max_depth=50)\n",
    "    print(pd.Series(cross_val_score(nb, X_dtm, y, cv=5, scoring='accuracy')).mean())"
   ]
  },
  {
   "cell_type": "code",
   "execution_count": 18,
   "metadata": {},
   "outputs": [
    {
     "name": "stdout",
     "output_type": "stream",
     "text": [
      "Features:  15051\n",
      "0.6844262295081966\n"
     ]
    }
   ],
   "source": [
    "np.random.seed(123)\n",
    "vect1 = CountVectorizer()\n",
    "tokenize_test(vect1)"
   ]
  },
  {
   "cell_type": "markdown",
   "metadata": {},
   "source": [
    "**Desempeño** : Utilizando la tranformación vectorize se obtiene un acurracy promedio de 0.6844"
   ]
  },
  {
   "cell_type": "markdown",
   "metadata": {},
   "source": [
    "# Exercise 12.2 \n",
    "\n",
    "Remove stopwords, then predict the sentiment using CountVectorizer.\n",
    "\n",
    "use Random Forest classifier"
   ]
  },
  {
   "cell_type": "markdown",
   "metadata": {},
   "source": [
    "### A. Remove stopwords\n",
    "\n",
    "Removemos las **English stop words** y para ello también agregamos a nuestro diccionario otras stop_words que considermos no aportan en el ánalisis, las cuales almacenamos en la lista *my_additional_stop_words*.\n",
    "\n",
    "Posteriormente, graficamos la lista de palabras resultantes de aplicar stop_words; obteniendo que ahora las palabras más frecuentes  han cambiando y son: united, flight, usairways, americanair, southwestair, entre otras. \n",
    "\n",
    "Con este procedimiento, se reducen las palabras, pasando de 15.051 a 14.763."
   ]
  },
  {
   "cell_type": "code",
   "execution_count": 19,
   "metadata": {},
   "outputs": [],
   "source": [
    "from sklearn.feature_extraction import text \n",
    "my_additional_stop_words = [\"ox4w6ktsgi\", \"acnewsguy\", \"alicia\", \"antonio\", \"bebetter\", \"asus\", \"owmaxoyehz\"]\n",
    "stop_words = text.ENGLISH_STOP_WORDS.union(my_additional_stop_words)"
   ]
  },
  {
   "cell_type": "code",
   "execution_count": 20,
   "metadata": {},
   "outputs": [
    {
     "data": {
      "image/png": "[encoded data removed]",
      "text/plain": [
       "<Figure size 576x396 with 1 Axes>"
      ]
     },
     "metadata": {},
     "output_type": "display_data"
    }
   ],
   "source": [
    "vect2 = CountVectorizer(stop_words=stop_words)\n",
    "X_dtm2 = vect2.fit_transform(X)\n",
    "features   = vect2.get_feature_names()\n",
    "visualizer = FreqDistVisualizer(features=features, orient='v',colors=[\"yellow\"])\n",
    "visualizer.fit(X_dtm2)\n",
    "visualizer.show();\n"
   ]
  },
  {
   "cell_type": "markdown",
   "metadata": {},
   "source": [
    "### B. Predicción "
   ]
  },
  {
   "cell_type": "code",
   "execution_count": 21,
   "metadata": {},
   "outputs": [
    {
     "name": "stdout",
     "output_type": "stream",
     "text": [
      "Features:  14763\n",
      "0.648428961748634\n"
     ]
    }
   ],
   "source": [
    "np.random.seed(123)\n",
    "tokenize_test(vect2)"
   ]
  },
  {
   "cell_type": "markdown",
   "metadata": {},
   "source": [
    "**Desempeño sin stopwords**: Cuando se estima de nuevo el modelo de clasificación sin tener en cuenta las stopwords se obtiene un accuracy promedio de 0.6484, el cual es levemente inferior al modelo anterior (con stop words)."
   ]
  },
  {
   "cell_type": "code",
   "execution_count": 22,
   "metadata": {},
   "outputs": [
    {
     "name": "stdout",
     "output_type": "stream",
     "text": [
      "Features:  1000\n",
      "0.6658469945355192\n"
     ]
    }
   ],
   "source": [
    "np.random.seed(123)\n",
    "vect2_2 = CountVectorizer(stop_words='english', max_features=1000)\n",
    "tokenize_test(vect2_2)"
   ]
  },
  {
   "cell_type": "markdown",
   "metadata": {},
   "source": [
    "**Desempeño sin stop words y con max_features (seleccionando las 1000 palabras más frecuentes)**: utilizando las palabras más frecuentes se obtiene una mejora respecto a los resultados obtenidos sin stopwords anteriormente (accurcy promedio de 0.6658)."
   ]
  },
  {
   "cell_type": "code",
   "execution_count": 23,
   "metadata": {},
   "outputs": [
    {
     "name": "stdout",
     "output_type": "stream",
     "text": [
      "['000', '10', '100', '11', '12', '14', '15', '16', '17', '18', '19', '1hr', '1k', '1st', '20', '200', '2015', '21', '22', '23', '24', '25', '2hrs', '2nd', '30', '35', '3rd', '40', '45', '50', '60', '728', '75', '800', '90', 'aa', 'able', 'absolute', 'absolutely', 'acceptable', 'access', 'account', 'actual', 'actually', 'add', 'added', 'address', 'advisory', 'afternoon', 'agent', 'agents', 'ago', 'air', 'aircraft', 'airline', 'airlines', 'airplane', 'airport', 'airports', 'airways', 'allow', 'allowed', 'amazing', 'america', 'american', 'americanair', 'americanairlines', 'amp', 'angry', 'answer', 'answered', 'answering', 'answers', 'anymore', 'apology', 'app', 'apparently', 'appease', 'appreciate', 'appreciated', 'area', 'aren', 'arrival', 'arrive', 'arrived', 'arriving', 'asap', 'ask', 'asked', 'asking', 'assist', 'assistance', 'atl', 'atlanta', 'attendant', 'attendants', 'attitude', 'austin', 'auto', 'automated']\n"
     ]
    }
   ],
   "source": [
    "print(vect2_2.get_feature_names()[0:100]) # listado de las primeras 100 palabras más frecuentes"
   ]
  },
  {
   "cell_type": "markdown",
   "metadata": {},
   "source": [
    "# Exercise 12.3\n",
    "\n",
    "Increase n_grams size (with and without stopwords),  then predict the sentiment using CountVectorizer\n",
    "\n",
    "use Random Forest classifier"
   ]
  },
  {
   "cell_type": "markdown",
   "metadata": {},
   "source": [
    "### A. n_grams with stopwords"
   ]
  },
  {
   "cell_type": "code",
   "execution_count": 24,
   "metadata": {},
   "outputs": [
    {
     "name": "stdout",
     "output_type": "stream",
     "text": [
      "Features:  293223\n",
      "0.6418715846994536\n"
     ]
    }
   ],
   "source": [
    "vect3_1 = CountVectorizer(ngram_range=(1, 3))\n",
    "np.random.seed(123)\n",
    "tokenize_test(vect3_1)"
   ]
  },
  {
   "cell_type": "markdown",
   "metadata": {},
   "source": [
    "**Desempeño con n_grams y stopwords**: Cuando se incluyen n_gramas (1,3) en la predicción, se obtiene un accuracy promedio de 0.6418. Este accuracy es inferior a los obtenidos anteriormente.\n",
    "\n",
    "En este caso las columna de la tabla X aumentaron a 293.223"
   ]
  },
  {
   "cell_type": "code",
   "execution_count": 25,
   "metadata": {
    "scrolled": false
   },
   "outputs": [
    {
     "name": "stdout",
     "output_type": "stream",
     "text": [
      "['about her bag', 'about hiring', 'about hiring more', 'about hiring some', 'about hotel', 'about hotel like', 'about hour', 'about hour over', 'about hours', 'about hours ago', 'about hours because', 'about how', 'about how awesome', 'about how technology', 'about how wifi', 'about how you', 'about how your', 'about hrs', 'about hrs ago', 'about http']\n"
     ]
    }
   ],
   "source": [
    "print(vect3_1.get_feature_names()[10000:10020]) # lista de algunos n_grams"
   ]
  },
  {
   "cell_type": "markdown",
   "metadata": {},
   "source": [
    "### B. n_grams without stopwords"
   ]
  },
  {
   "cell_type": "code",
   "execution_count": 26,
   "metadata": {},
   "outputs": [
    {
     "name": "stdout",
     "output_type": "stream",
     "text": [
      "Features:  200983\n",
      "0.6331967213114754\n"
     ]
    }
   ],
   "source": [
    "np.random.seed(123)\n",
    "vect3_2 = CountVectorizer(stop_words=stop_words, ngram_range=(1, 3))\n",
    "tokenize_test(vect3_2)"
   ]
  },
  {
   "cell_type": "markdown",
   "metadata": {},
   "source": [
    "**Desempeño con n_grams pero sin stopwords**: Cuando se eliminan las stopwords de la estimación con n_gramas (1,3)  se obtiene un accuracy de 0.6332, que es ligeramente inferior en relación con el modelo anterior. \n",
    "\n",
    "En este caso las columnas de la tabla de entrada son 200.983."
   ]
  },
  {
   "cell_type": "code",
   "execution_count": 27,
   "metadata": {},
   "outputs": [
    {
     "name": "stdout",
     "output_type": "stream",
     "text": [
      "['abysmal customer', 'abysmal customer service', 'abysmal hour', 'abysmal hour runway', 'abysmal ve', 'abysmal ve phone', 'ac', 'ac reservation', 'ac reservation whats', 'ac sit', 'ac sit 21l', 'ac ua1510', 'ac ua1510 took', 'ac went', 'ac went 20', 'ac6zwmuoon', 'acarl4', 'acarl4 hotmail', 'acarl4 hotmail com', 'acc']\n"
     ]
    }
   ],
   "source": [
    "print(vect3_2.get_feature_names()[10000:10020]) # lista de algunos n_grams removiendo stopwords"
   ]
  },
  {
   "cell_type": "markdown",
   "metadata": {},
   "source": [
    "# Exercise 12.4\n",
    "\n",
    "Predict the sentiment using TfidfVectorizer.\n",
    "\n",
    "use Random Forest classifier"
   ]
  },
  {
   "cell_type": "markdown",
   "metadata": {},
   "source": [
    "### A.TD-IDF with stopwords"
   ]
  },
  {
   "cell_type": "code",
   "execution_count": 28,
   "metadata": {},
   "outputs": [
    {
     "name": "stdout",
     "output_type": "stream",
     "text": [
      "Features:  15051\n",
      "0.6857240437158469\n"
     ]
    }
   ],
   "source": [
    "vect4_1 = TfidfVectorizer() \n",
    "np.random.seed(123)\n",
    "tokenize_test(vect4_1)"
   ]
  },
  {
   "cell_type": "markdown",
   "metadata": {},
   "source": [
    "**Desempeño del modelo usando TfidfVectorizer con stopwords**: Cuando se estima el modelo utilizando Term Frequency-Inverse Document Frequency (TF-IDF) se obtiene un accuracy promedio de 0.6857, el mejor resultado obtenido hasta ahora.\n",
    "\n",
    "En este caso, la tabla tranformada tiene las mismas 15.051 columnas iniciales (12.2) porque básicamente lo que se hizo fue calcular:\n",
    "\n",
    "(Número de veces que la palabra está el el tuit)/(cantidad de tuits en que se encuentra la palabra)"
   ]
  },
  {
   "cell_type": "code",
   "execution_count": 29,
   "metadata": {},
   "outputs": [
    {
     "name": "stdout",
     "output_type": "stream",
     "text": [
      "['000', '000114', '000419', '000ft', '000lbs', '0011', '0016', '00a', '00am', '00p', '00pm', '01', '0162389030167', '0162424965446', '0162431184663', '0167560070877', '0185', '01ldxn3qqq', '01pm', '02', '0200', '03', '0316', '0372389047497', '04', '0400', '04sdytt7zd', '05', '0510', '0530', '05am', '05pm', '06', '0600', '0638', '0671', '07', '0736', '0769', '07p', '07xhcacjax', '08', '0985', '0_0', '0bjnz4eix5', '0cevy3p42b', '0ewj7oklji', '0hmmqczkcf', '0hxlnvzknp']\n"
     ]
    }
   ],
   "source": [
    "print(vect4_1.get_feature_names()[1:50]) # muestra los primeros tokens"
   ]
  },
  {
   "cell_type": "code",
   "execution_count": 30,
   "metadata": {
    "scrolled": false
   },
   "outputs": [
    {
     "data": {
      "image/png": "[encoded data removed]",
      "text/plain": [
       "<Figure size 576x396 with 1 Axes>"
      ]
     },
     "metadata": {},
     "output_type": "display_data"
    }
   ],
   "source": [
    "vect4_1 = TfidfVectorizer()\n",
    "X_dtm4 = vect4_1.fit_transform(X)\n",
    "features4   = vect4_1.get_feature_names()\n",
    "visualizer = FreqDistVisualizer(features=features4, orient='v',colors=[\"yellow\"])\n",
    "visualizer.fit(X_dtm4)\n",
    "visualizer.show();"
   ]
  },
  {
   "cell_type": "markdown",
   "metadata": {},
   "source": [
    "En el gráfico anterior se muestran cuales son los tokens más frecuentes. Puntualmente, el top 5 está compuesto por: to, the, you, united, for."
   ]
  },
  {
   "cell_type": "markdown",
   "metadata": {},
   "source": [
    "### B.TD-IDF without stopwords"
   ]
  },
  {
   "cell_type": "code",
   "execution_count": 31,
   "metadata": {},
   "outputs": [
    {
     "name": "stdout",
     "output_type": "stream",
     "text": [
      "Features:  14770\n",
      "0.6564890710382514\n"
     ]
    }
   ],
   "source": [
    "vect4_2 = TfidfVectorizer(stop_words='english') \n",
    "np.random.seed(123)\n",
    "tokenize_test(vect4_2)"
   ]
  },
  {
   "cell_type": "markdown",
   "metadata": {},
   "source": [
    "**Desempeño del modelo usando TfidfVectorizer sin stopwords**: Cuando se estima el modelo utilizando Term Frequency-Inverse Document Frequency (TF-IDF) sin stopwords se obtiene un accuracy promedio de 0.6564, que es inferior al obtenido anteriormente y parece estar indicando que algunas de las palabras eliminadas son importante para la predicción del sentimiento del tweet.\n",
    "\n",
    "En este caso las columnas de la tabla de entrada son 14.770."
   ]
  },
  {
   "cell_type": "markdown",
   "metadata": {},
   "source": [
    "### C.TD-IDF with n-grams and stopwords"
   ]
  },
  {
   "cell_type": "code",
   "execution_count": 32,
   "metadata": {},
   "outputs": [
    {
     "name": "stdout",
     "output_type": "stream",
     "text": [
      "Features:  293223\n",
      "0.6474043715846995\n"
     ]
    }
   ],
   "source": [
    "vect4_3 = TfidfVectorizer(ngram_range=(1, 3)) \n",
    "np.random.seed(123)\n",
    "tokenize_test(vect4_3)"
   ]
  },
  {
   "cell_type": "markdown",
   "metadata": {},
   "source": [
    "**Desempeño del modelo usando TfidfVectorizer con n-gramas y stopwords**: Cuando se estima el modelo utilizando Term Frequency-Inverse Document Frequency (TF-IDF) con n-grmas (1,3) y stopwords, se obtiene un accuracy promedio de 0.6564, que es inferior al obtenido anteriormente. Este resultado es consistente con las estimaciones iniciales sin TF-IDF. Cuando se estima el modelo con n-gramas el accuracy desminuye.\n",
    "\n",
    "En este caso las columnas de la tabla de entrada son 293.223."
   ]
  },
  {
   "cell_type": "markdown",
   "metadata": {},
   "source": [
    "### D. TD-IDF with n-grams but without stopwords"
   ]
  },
  {
   "cell_type": "code",
   "execution_count": 33,
   "metadata": {},
   "outputs": [
    {
     "name": "stdout",
     "output_type": "stream",
     "text": [
      "Features:  201010\n",
      "0.6390710382513661\n"
     ]
    }
   ],
   "source": [
    "vect4_4 = TfidfVectorizer(ngram_range=(1, 3), stop_words='english') \n",
    "np.random.seed(123)\n",
    "tokenize_test(vect4_4)"
   ]
  },
  {
   "cell_type": "markdown",
   "metadata": {},
   "source": [
    "**Desempeño del modelo usando TfidfVectorizer con n-gramas sin stopwords**: Cuando se estima el modelo utilizando Term Frequency-Inverse Document Frequency (TF-IDF) con n-grmas (1,3) pero sin stopwords, se obtiene un accuracy promedio de 0.6391, que es el menor obtenido en el punto 12.4.\n",
    "\n",
    "En este caso las columnas de la tabla de entrada son 201.010."
   ]
  },
  {
   "cell_type": "markdown",
   "metadata": {},
   "source": [
    "### F. TD-IDF ajusted"
   ]
  },
  {
   "cell_type": "markdown",
   "metadata": {},
   "source": [
    "Finalmente, se prueba un modelo que incluye algunos de los parámetros analizados anteiormente, junto con algunos ajustes adicionales como eliminar puntuación y trabajar con las raíces (o base) de las palabras, con el objetivo de explorar posibles mejoras de los resultados obtenidos hasta este momento. Concretamente se implementó:\n",
    "\n",
    "1. eliminación de puntuación\n",
    "2. stemming \n",
    "3. n_grams\n",
    "4. Max_futures"
   ]
  },
  {
   "cell_type": "code",
   "execution_count": 34,
   "metadata": {},
   "outputs": [
    {
     "data": {
      "text/plain": [
       "tweet_id\n",
       "570306133677760513                  @VirginAmerica What @dhepburn said.\n",
       "570301130888122368    @VirginAmerica plus you've added commercials t...\n",
       "Name: text, dtype: object"
      ]
     },
     "execution_count": 34,
     "metadata": {},
     "output_type": "execute_result"
    }
   ],
   "source": [
    "X1=X \n",
    "X.head(2)"
   ]
  },
  {
   "cell_type": "code",
   "execution_count": 35,
   "metadata": {},
   "outputs": [],
   "source": [
    "def remove_punctuation(text):\n",
    "    import string\n",
    "    translator = str.maketrans('', '', string.punctuation)\n",
    "    return text.translate(translator)"
   ]
  },
  {
   "cell_type": "code",
   "execution_count": 36,
   "metadata": {},
   "outputs": [
    {
     "data": {
      "text/plain": [
       "tweet_id\n",
       "570306133677760513                     VirginAmerica What dhepburn said\n",
       "570301130888122368    VirginAmerica plus youve added commercials to ...\n",
       "570301083672813571    VirginAmerica I didnt today Must mean I need t...\n",
       "570301031407624196    VirginAmerica its really aggressive to blast o...\n",
       "570300817074462722    VirginAmerica and its a really big bad thing a...\n",
       "Name: text, dtype: object"
      ]
     },
     "execution_count": 36,
     "metadata": {},
     "output_type": "execute_result"
    }
   ],
   "source": [
    "X1 = X1.apply(remove_punctuation)\n",
    "X1.head() # se han eliminado expresiones como el @ y '"
   ]
  },
  {
   "cell_type": "code",
   "execution_count": 37,
   "metadata": {},
   "outputs": [],
   "source": [
    "stemmer = SnowballStemmer('english')\n",
    "def stemming(text):    \n",
    "    text = [stemmer.stem(word) for word in text.split()]\n",
    "    return \" \".join(text) "
   ]
  },
  {
   "cell_type": "code",
   "execution_count": 38,
   "metadata": {},
   "outputs": [
    {
     "data": {
      "text/plain": [
       "tweet_id\n",
       "570306133677760513                     virginamerica what dhepburn said\n",
       "570301130888122368    virginamerica plus youv ad commerci to the exp...\n",
       "Name: text, dtype: object"
      ]
     },
     "execution_count": 38,
     "metadata": {},
     "output_type": "execute_result"
    }
   ],
   "source": [
    "X1 = X1.apply(stemming) # se dejan las raices de las palabras\n",
    "X1.head(2)"
   ]
  },
  {
   "cell_type": "code",
   "execution_count": 39,
   "metadata": {},
   "outputs": [
    {
     "data": {
      "text/plain": [
       "matrix([[0., 0., 0., ..., 0., 0., 0.],\n",
       "        [0., 0., 0., ..., 0., 0., 0.],\n",
       "        [0., 0., 0., ..., 0., 0., 0.],\n",
       "        ...,\n",
       "        [0., 0., 0., ..., 0., 0., 0.],\n",
       "        [0., 0., 0., ..., 0., 0., 0.],\n",
       "        [0., 0., 0., ..., 0., 0., 0.]])"
      ]
     },
     "execution_count": 39,
     "metadata": {},
     "output_type": "execute_result"
    }
   ],
   "source": [
    "#max_df lo utilizamos para ignorar los términos que aprecen en más del 90% de los textos\n",
    "vectF = TfidfVectorizer(max_features=10000,ngram_range=(1, 3), max_df=0.9)\n",
    "X_dtmF = vectF.fit_transform(X1)\n",
    "tempF = X_dtmF.todense()\n",
    "tempF"
   ]
  },
  {
   "cell_type": "code",
   "execution_count": 40,
   "metadata": {},
   "outputs": [
    {
     "data": {
      "text/plain": [
       "(14640, 10000)"
      ]
     },
     "execution_count": 40,
     "metadata": {},
     "output_type": "execute_result"
    }
   ],
   "source": [
    "tempF.shape"
   ]
  },
  {
   "cell_type": "code",
   "execution_count": 41,
   "metadata": {},
   "outputs": [
    {
     "name": "stdout",
     "output_type": "stream",
     "text": [
      "['10 day', '10 hour', '10 hrs', '10 min', '10 minut', '10 of', '100', '100 peopl', '1000', '10000', '1024', '1030', '10pm', '11', '1130', '12', '12 hour', '12 hrs', '1200', '1230', '13', '130', '136', '14', '140', '140 charact', '15', '15 hour', '15 hrs', '15 min', '15 minut', '150', '15th', '16', '17', '18', '180', '1800', '19', '1hr', '1k', '1pm', '1st', '1st class', '1st class seat', '1st flight', '1st time', '20', '20 min']\n"
     ]
    }
   ],
   "source": [
    "print(vectF.get_feature_names()[1:50]) "
   ]
  },
  {
   "cell_type": "code",
   "execution_count": 42,
   "metadata": {},
   "outputs": [
    {
     "name": "stdout",
     "output_type": "stream",
     "text": [
      "<class 'pandas.core.frame.DataFrame'>\n",
      "RangeIndex: 14640 entries, 0 to 14639\n",
      "Columns: 10000 entries, 10 to zone\n",
      "dtypes: float64(10000)\n",
      "memory usage: 1.1 GB\n"
     ]
    }
   ],
   "source": [
    "dataF = pd.DataFrame(tempF, columns=vectF.get_feature_names())# muestra la tabla después del tfidf\n",
    "dataF.info()"
   ]
  },
  {
   "cell_type": "code",
   "execution_count": 43,
   "metadata": {},
   "outputs": [
    {
     "name": "stdout",
     "output_type": "stream",
     "text": [
      "0.6991803278688524\n"
     ]
    }
   ],
   "source": [
    "mdl = RFC(n_estimators=10, max_depth=50)\n",
    "print(np.mean(cross_val_score(mdl, dataF, y, cv=5, scoring='accuracy')))"
   ]
  },
  {
   "cell_type": "markdown",
   "metadata": {},
   "source": [
    "**Desempeño del modelo ajustado**: Cuando se realizan los ajustes indicados, se obtiene un accuracy promedio de 0.6991. Este accuracy es el más alto de todos las estimaciones realizadas a lo largo del taller."
   ]
  },
  {
   "cell_type": "markdown",
   "metadata": {},
   "source": [
    "#### Conclusión:\n",
    "La estadística de desempeño depende del tratamiento realizado y de la forma cómo se aborden los textos de los tweets. Para este caso trabajar con Term Frequency-Inverse Document Frequency (TF-IDF) mejoró los resultados en varios de los ejercicios realizados.\n"
   ]
  }
 ],
 "metadata": {
  "kernelspec": {
   "display_name": "Python 3",
   "language": "python",
   "name": "python3"
  },
  "language_info": {
   "codemirror_mode": {
    "name": "ipython",
    "version": 3
   },
   "file_extension": ".py",
   "mimetype": "text/x-python",
   "name": "python",
   "nbconvert_exporter": "python",
   "pygments_lexer": "ipython3",
   "version": "3.7.6"
  }
 },
 "nbformat": 4,
 "nbformat_minor": 4
}