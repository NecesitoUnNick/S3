{
 "cells": [
  {
   "cell_type": "markdown",
   "metadata": {},
   "source": [
    "# Exercise 14\n",
    "\n",
    "## Predict rating using LSTM\n"
   ]
  },
  {
   "cell_type": "code",
   "execution_count": 38,
   "metadata": {},
   "outputs": [],
   "source": [
    "import pandas as pd\n",
    "import numpy as np"
   ]
  },
  {
   "cell_type": "code",
   "execution_count": 39,
   "metadata": {},
   "outputs": [],
   "source": [
    "dataTraining = pd.read_csv('https://github.com/albahnsen/AdvancedMethodsDataAnalysisClass/raw/master/datasets/dataTraining.zip', encoding='UTF-8', index_col=0)"
   ]
  },
  {
   "cell_type": "code",
   "execution_count": 40,
   "metadata": {},
   "outputs": [],
   "source": [
    "plots = dataTraining['plot']\n",
    "y = (dataTraining['rating'] >= dataTraining['rating'].mean()).astype(int)"
   ]
  },
  {
   "cell_type": "code",
   "execution_count": 41,
   "metadata": {},
   "outputs": [
    {
     "data": {
      "text/plain": [
       "3107    most is the story of a single father who takes...\n",
       "900     a serial killer decides to teach the secrets o...\n",
       "6724    in sweden ,  a female blackmailer with a disfi...\n",
       "4704    in a friday afternoon in new york ,  the presi...\n",
       "2582    in los angeles ,  the editor of a publishing h...\n",
       "                              ...                        \n",
       "8417    \" our marriage ,  their wedding .  \"  it ' s l...\n",
       "1592    the wandering barbarian ,  conan ,  alongside ...\n",
       "1723    like a tale spun by scheherazade ,  kismet fol...\n",
       "7605    mrs .  brisby ,  a widowed mouse ,  lives in a...\n",
       "215     tinker bell journey far north of never land to...\n",
       "Name: plot, Length: 7895, dtype: object"
      ]
     },
     "execution_count": 41,
     "metadata": {},
     "output_type": "execute_result"
    }
   ],
   "source": [
    "plots"
   ]
  },
  {
   "cell_type": "code",
   "execution_count": 42,
   "metadata": {},
   "outputs": [
    {
     "data": {
      "text/plain": [
       "3107    1\n",
       "900     0\n",
       "6724    1\n",
       "4704    1\n",
       "2582    1\n",
       "       ..\n",
       "8417    0\n",
       "1592    0\n",
       "1723    0\n",
       "7605    1\n",
       "215     1\n",
       "Name: rating, Length: 7895, dtype: int32"
      ]
     },
     "execution_count": 42,
     "metadata": {},
     "output_type": "execute_result"
    }
   ],
   "source": [
    "y"
   ]
  },
  {
   "cell_type": "markdown",
   "metadata": {},
   "source": [
    "# Exercise 14.1\n",
    "\n",
    "- Remove stopwords \n",
    "- Lowercase\n",
    "- split the text in words \n",
    "- pad_sequences"
   ]
  },
  {
   "cell_type": "code",
   "execution_count": 90,
   "metadata": {},
   "outputs": [
    {
     "name": "stderr",
     "output_type": "stream",
     "text": [
      "[nltk_data] Downloading package stopwords to\n",
      "[nltk_data]     C:\\Users\\carlo\\AppData\\Roaming\\nltk_data...\n",
      "[nltk_data]   Package stopwords is already up-to-date!\n"
     ]
    }
   ],
   "source": [
    "from sklearn.model_selection import train_test_split, cross_val_score\n",
    "from sklearn.feature_extraction.text import CountVectorizer, TfidfVectorizer\n",
    "import nltk\n",
    "from nltk.corpus import stopwords\n",
    "from nltk  import word_tokenize\n",
    "import string\n",
    "\n",
    "#cargamos los stopwords\n",
    "nltk.download('stopwords')\n",
    "#guardamos los stopwords\n",
    "e_stp = stopwords.words('english')\n",
    "#guardamos los signos de puntuacion\n",
    "signos = string.punctuation\n",
    "\n",
    "#Convertimos los plots en una sola lista\n",
    "X = plots.to_list()\n",
    "#Convertimos todo en minúsculas\n",
    "X = [x.lower() for x in X]\n",
    "#Unimos todas las filas y separamos por espacio cada palabra\n",
    "X2 = ''.join(X).split() \n",
    "#removemos las palabras repetidas\n",
    "X2 = set(X2) \n",
    "#quitamos los stopswords que coincidan con nuestra base de stopwords\n",
    "X2 = [x for x in X2 if x not in e_stp]\n",
    "#quitamos los signos de puntuación que coincidan con nuestra base\n",
    "X2 = [x for x in X2 if x not in signos]\n",
    "#Creamos el vocabulario\n",
    "voc = {x: idx + 1 for idx, x in enumerate(set(X2))}"
   ]
  },
  {
   "cell_type": "code",
   "execution_count": 86,
   "metadata": {},
   "outputs": [
    {
     "data": {
      "text/html": [
       "<div>\n",
       "<style scoped>\n",
       "    .dataframe tbody tr th:only-of-type {\n",
       "        vertical-align: middle;\n",
       "    }\n",
       "\n",
       "    .dataframe tbody tr th {\n",
       "        vertical-align: top;\n",
       "    }\n",
       "\n",
       "    .dataframe thead th {\n",
       "        text-align: right;\n",
       "    }\n",
       "</style>\n",
       "<table border=\"1\" class=\"dataframe\">\n",
       "  <thead>\n",
       "    <tr style=\"text-align: right;\">\n",
       "      <th></th>\n",
       "      <th>0</th>\n",
       "    </tr>\n",
       "  </thead>\n",
       "  <tbody>\n",
       "    <tr>\n",
       "      <th>count</th>\n",
       "      <td>7895.000000</td>\n",
       "    </tr>\n",
       "    <tr>\n",
       "      <th>mean</th>\n",
       "      <td>144.770868</td>\n",
       "    </tr>\n",
       "    <tr>\n",
       "      <th>std</th>\n",
       "      <td>95.816408</td>\n",
       "    </tr>\n",
       "    <tr>\n",
       "      <th>min</th>\n",
       "      <td>1.000000</td>\n",
       "    </tr>\n",
       "    <tr>\n",
       "      <th>50%</th>\n",
       "      <td>127.000000</td>\n",
       "    </tr>\n",
       "    <tr>\n",
       "      <th>90%</th>\n",
       "      <td>274.600000</td>\n",
       "    </tr>\n",
       "    <tr>\n",
       "      <th>95%</th>\n",
       "      <td>328.000000</td>\n",
       "    </tr>\n",
       "    <tr>\n",
       "      <th>97.5%</th>\n",
       "      <td>379.650000</td>\n",
       "    </tr>\n",
       "    <tr>\n",
       "      <th>99%</th>\n",
       "      <td>438.060000</td>\n",
       "    </tr>\n",
       "    <tr>\n",
       "      <th>max</th>\n",
       "      <td>1863.000000</td>\n",
       "    </tr>\n",
       "  </tbody>\n",
       "</table>\n",
       "</div>"
      ],
      "text/plain": [
       "                 0\n",
       "count  7895.000000\n",
       "mean    144.770868\n",
       "std      95.816408\n",
       "min       1.000000\n",
       "50%     127.000000\n",
       "90%     274.600000\n",
       "95%     328.000000\n",
       "97.5%   379.650000\n",
       "99%     438.060000\n",
       "max    1863.000000"
      ]
     },
     "execution_count": 86,
     "metadata": {},
     "output_type": "execute_result"
    }
   ],
   "source": [
    "#creamos el array longitud vacío para ir agregando la cantidad de palabras por plot\n",
    "longitud =[]\n",
    "#creamos el for que recorra todos los plot\n",
    "for i in range(0,len(plots)):\n",
    "    #agregamos a longitud el largo de cada plot (partido por palabras)\n",
    "    longitud.append(len(plots.to_list()[i].split()))\n",
    "#revisamos los descriptivos acá, sobre todo para revisar los percentiles y tomar el P99 como nuestro max length del pad\n",
    "pd.DataFrame(longitud).describe(percentiles = [0.90,0.95,0.975,0.99])"
   ]
  },
  {
   "cell_type": "code",
   "execution_count": 91,
   "metadata": {},
   "outputs": [],
   "source": [
    "len_pad = 438\n",
    "#Creamos un split con todas las palabras \n",
    "X_ = [x.split()[:max_plot_len] for x in X]\n",
    "#Cambiamos las palabras por el valor int de esa palabra creado en el diccionario vocabulario\n",
    "X_ = [[vocabulary[x1] for x1 in x if x1 in vocabulary.keys()] for x in X_]\n",
    "#Creamos el PAD\n",
    "X_pad = sequence.pad_sequences(X_, maxlen=max_plot_len)"
   ]
  },
  {
   "cell_type": "markdown",
   "metadata": {},
   "source": [
    "# Exercise 14.2\n",
    "\n",
    "Create a LSTM neural network to predict the rating of a movie\n",
    "\n",
    "Calculate the testing set accuracy"
   ]
  },
  {
   "cell_type": "code",
   "execution_count": 47,
   "metadata": {},
   "outputs": [
    {
     "name": "stdout",
     "output_type": "stream",
     "text": [
      "tf.keras code in this scope will run on GPU\n"
     ]
    }
   ],
   "source": [
    "#Importamos TF\n",
    "import tensorflow as tf\n",
    "#Forzamos a que use GPU\n",
    "tf.device(\"gpu:0\")\n",
    "#Accedemos a la configuración del TF\n",
    "config = tf.ConfigProto()\n",
    "#Habilitamos el crecimiento de memoria para evitar volcamientos por el uso de GPU Local (NVidia GTX 1660 Ti 6GB RAM DDR5)\n",
    "config.gpu_options.allow_growth = True"
   ]
  },
  {
   "cell_type": "code",
   "execution_count": 48,
   "metadata": {},
   "outputs": [],
   "source": [
    "#Importamos Keras (y ya no tiene necesidad de crear el TF)\n",
    "import keras\n",
    "from keras import backend as K"
   ]
  },
  {
   "cell_type": "code",
   "execution_count": 49,
   "metadata": {},
   "outputs": [],
   "source": [
    "from keras.models import Sequential\n",
    "from keras.layers.recurrent import LSTM\n",
    "from keras.layers.core import Dense, Dropout\n",
    "from keras.layers.embeddings import Embedding\n",
    "from keras.preprocessing import sequence\n",
    "from sklearn.model_selection import train_test_split"
   ]
  },
  {
   "cell_type": "code",
   "execution_count": 50,
   "metadata": {},
   "outputs": [],
   "source": [
    "from livelossplot import PlotLossesKeras\n",
    "%matplotlib inline"
   ]
  },
  {
   "cell_type": "code",
   "execution_count": 51,
   "metadata": {},
   "outputs": [],
   "source": [
    "#Partimos la data en train y test\n",
    "X_train, X_test, y_train, y_test = train_test_split(X_pad, y, test_size=0.33, random_state=42)"
   ]
  },
  {
   "cell_type": "code",
   "execution_count": 100,
   "metadata": {
    "scrolled": true
   },
   "outputs": [
    {
     "name": "stdout",
     "output_type": "stream",
     "text": [
      "Model: \"LSTM Rating High/Low Prediction\"\n",
      "_________________________________________________________________\n",
      "Layer (type)                 Output Shape              Param #   \n",
      "=================================================================\n",
      "embedding_1 (Embedding)      (None, 438, 10)           4390      \n",
      "_________________________________________________________________\n",
      "lstm_1 (LSTM)                (None, 32)                5504      \n",
      "_________________________________________________________________\n",
      "dropout_1 (Dropout)          (None, 32)                0         \n",
      "_________________________________________________________________\n",
      "dense_1 (Dense)              (None, 1)                 33        \n",
      "=================================================================\n",
      "Total params: 9,927\n",
      "Trainable params: 9,927\n",
      "Non-trainable params: 0\n",
      "_________________________________________________________________\n"
     ]
    }
   ],
   "source": [
    "#Limpiamos la sesision de keras por si tenemos algón modelo alocado en la GPU, solo para evitar inconvenientes.\n",
    "keras.backend.clear_session()\n",
    "#Creamos el modelo inicialmente secuencial\n",
    "model = Sequential(name=\"LSTM Rating High/Low Prediction\")\n",
    "#Agregamos la capa de entrada, de tamaño len_pad+1 (el +1 es para el bias) y que ingresan esa misma cant de vars\n",
    "model.add(Embedding(len_pad + 1, 10, input_length=len_pad))\n",
    "#Agregamos una capa oculta LSTM de 32 de tamaño\n",
    "model.add(LSTM(32))\n",
    "#Agregamos un dropout de pesos para mejorar calibración y evitar overfitting\n",
    "model.add(Dropout(0.5))\n",
    "#Agregamos la capa de salida con función de activación sigmoide\n",
    "model.add(Dense(1, activation='sigmoid'))\n",
    "#Compilamos el modelo\n",
    "model.compile(loss='binary_crossentropy', optimizer='RMSprop', \n",
    "              metrics=['accuracy'])\n",
    "#Revisamos parametros del modelo\n",
    "model.summary()"
   ]
  },
  {
   "cell_type": "code",
   "execution_count": 101,
   "metadata": {
    "scrolled": false
   },
   "outputs": [
    {
     "data": {
      "image/png": "[encoded data removed]",
      "text/plain": [
       "<Figure size 864x576 with 2 Axes>"
      ]
     },
     "metadata": {
      "needs_background": "light"
     },
     "output_type": "display_data"
    },
    {
     "name": "stdout",
     "output_type": "stream",
     "text": [
      "accuracy\n",
      "\tvalidation       \t (min:    0.472, max:    0.545, cur:    0.530)\n",
      "\ttraining         \t (min:    0.480, max:    0.520, cur:    0.516)\n",
      "Loss\n",
      "\tvalidation       \t (min:    0.690, max:    4.899, cur:    4.899)\n",
      "\ttraining         \t (min:    0.692, max:    2.104, cur:    2.104)\n"
     ]
    },
    {
     "data": {
      "text/plain": [
       "<keras.callbacks.callbacks.History at 0x258b1264348>"
      ]
     },
     "execution_count": 101,
     "metadata": {},
     "output_type": "execute_result"
    }
   ],
   "source": [
    "#Entrenamos el modelo con 10 epocas y que vaya dibujando loss y accuracy con cada época.\n",
    "model.fit(X_train, y_train, validation_data=[X_test, y_test], \n",
    "            epochs=10, verbose=1, \n",
    "            callbacks=[PlotLossesKeras()])"
   ]
  }
 ],
 "metadata": {
  "kernelspec": {
   "display_name": "Python 3",
   "language": "python",
   "name": "python3"
  },
  "language_info": {
   "codemirror_mode": {
    "name": "ipython",
    "version": 3
   },
   "file_extension": ".py",
   "mimetype": "text/x-python",
   "name": "python",
   "nbconvert_exporter": "python",
   "pygments_lexer": "ipython3",
   "version": "3.7.6"
  }
 },
 "nbformat": 4,
 "nbformat_minor": 4
}
