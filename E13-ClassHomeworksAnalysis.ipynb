{
  "nbformat": 4,
  "nbformat_minor": 0,
  "metadata": {
    "kernelspec": {
      "display_name": "Python 3",
      "language": "python",
      "name": "python3"
    },
    "language_info": {
      "codemirror_mode": {
        "name": "ipython",
        "version": 3
      },
      "file_extension": ".py",
      "mimetype": "text/x-python",
      "name": "python",
      "nbconvert_exporter": "python",
      "pygments_lexer": "ipython3",
      "version": "3.7.6"
    },
    "colab": {
      "name": "ver.ipynb",
      "provenance": [],
      "collapsed_sections": []
    }
  },
  "cells": [
    {
      "cell_type": "markdown",
      "metadata": {
        "id": "ehxYT-Kgv3ud",
        "colab_type": "text"
      },
      "source": [
        "# Exercise 13\n",
        "\n",
        "## Analyze class homeworks\n"
      ]
    },
    {
      "cell_type": "code",
      "metadata": {
        "id": "bxxVsuVRv3uf",
        "colab_type": "code",
        "colab": {
          "base_uri": "https://localhost:8080/",
          "height": 203
        },
        "outputId": "11efb967-59ea-4888-e3ea-8a969d4f3cc4"
      },
      "source": [
        "import pandas as pd\n",
        "import numpy as np\n",
        "\n",
        "%matplotlib inline\n",
        "import matplotlib.pyplot as plt\n",
        "\n",
        "data = pd.read_excel('https://github.com/albahnsen/AdvancedMethodsDataAnalysisClass/raw/master/datasets/Consolidado_respuestas_escribir_v2.xlsx', encoding='UTF-8')\n",
        "data.head(3)\n"
      ],
      "execution_count": 1,
      "outputs": [
        {
          "output_type": "execute_result",
          "data": {
            "text/html": [
              "<div>\n",
              "<style scoped>\n",
              "    .dataframe tbody tr th:only-of-type {\n",
              "        vertical-align: middle;\n",
              "    }\n",
              "\n",
              "    .dataframe tbody tr th {\n",
              "        vertical-align: top;\n",
              "    }\n",
              "\n",
              "    .dataframe thead th {\n",
              "        text-align: right;\n",
              "    }\n",
              "</style>\n",
              "<table border=\"1\" class=\"dataframe\">\n",
              "  <thead>\n",
              "    <tr style=\"text-align: right;\">\n",
              "      <th></th>\n",
              "      <th>Genero</th>\n",
              "      <th>E1 - Examples of Time Series Analysis</th>\n",
              "      <th>E4 - Panel Data</th>\n",
              "      <th>E6 - Decison Trees</th>\n",
              "      <th>E8 - Ensemble Trees Overview</th>\n",
              "      <th>E10 - REST-API</th>\n",
              "      <th>E11 - Natural Language Processing Overview</th>\n",
              "    </tr>\n",
              "  </thead>\n",
              "  <tbody>\n",
              "    <tr>\n",
              "      <th>0</th>\n",
              "      <td>M</td>\n",
              "      <td>One of the most valuable application of time s...</td>\n",
              "      <td>The main difference between panel data and tim...</td>\n",
              "      <td>Decision tree are a model used by the analytic...</td>\n",
              "      <td>They are used to make a better prediction than...</td>\n",
              "      <td>Es una forma de arquitectura de datos. Los mic...</td>\n",
              "      <td>NaN</td>\n",
              "    </tr>\n",
              "    <tr>\n",
              "      <th>1</th>\n",
              "      <td>F</td>\n",
              "      <td>ANÁLISIS DE SERIES DE TIEMPO – USOS \\nEl análi...</td>\n",
              "      <td>Series de Tiempo vs Datos en Panel\\nUna serie ...</td>\n",
              "      <td>TIPOS DE ÁRBOLES DE DECISIÓN Y APLICACIONES\\nL...</td>\n",
              "      <td>ENSAMBLAJE EN MACHINE LEARNING\\nLos métodos de...</td>\n",
              "      <td>Microservicios\\nEl objetivo principal de la im...</td>\n",
              "      <td>NaN</td>\n",
              "    </tr>\n",
              "    <tr>\n",
              "      <th>2</th>\n",
              "      <td>M</td>\n",
              "      <td>Una serie de tiempo es una colección de datos ...</td>\n",
              "      <td>NaN</td>\n",
              "      <td>los arboles de decisión hacen parte de los alg...</td>\n",
              "      <td>Ensemble methods is a machine learning techniq...</td>\n",
              "      <td>El enfoque tradicional para el diseño de aplic...</td>\n",
              "      <td>LexisNexis launched Lexis Analytics, a legal r...</td>\n",
              "    </tr>\n",
              "  </tbody>\n",
              "</table>\n",
              "</div>"
            ],
            "text/plain": [
              "  Genero  ...         E11 - Natural Language Processing Overview\n",
              "0      M  ...                                                NaN\n",
              "1      F  ...                                                NaN\n",
              "2      M  ...  LexisNexis launched Lexis Analytics, a legal r...\n",
              "\n",
              "[3 rows x 7 columns]"
            ]
          },
          "metadata": {
            "tags": []
          },
          "execution_count": 1
        }
      ]
    },
    {
      "cell_type": "markdown",
      "metadata": {
        "id": "gLz2zgY9v3ut",
        "colab_type": "text"
      },
      "source": [
        "# Exercise 13.1\n",
        "\n",
        "Analyze the writing patterns of each student"
      ]
    },
    {
      "cell_type": "markdown",
      "metadata": {
        "id": "Rj1EvN8Ev3uv",
        "colab_type": "text"
      },
      "source": [
        "**Descripción de la data**: La tabla continene información de 6 tareas de los 46 estudiantes de Modelos 1, donde el 21.7% son mujeres y el 78.26% son hombres. Las columnas conforman las tareas y se encuentra que la tarea menos realizada fue la E11 (NLP). En general, se tienen Missing value en todas las col"
      ]
    },
    {
      "cell_type": "code",
      "metadata": {
        "id": "MHiiWzT3v3uw",
        "colab_type": "code",
        "colab": {
          "base_uri": "https://localhost:8080/",
          "height": 159
        },
        "outputId": "9d116a65-efae-41e9-ec59-2d264c488592"
      },
      "source": [
        "data.isnull().sum()"
      ],
      "execution_count": 2,
      "outputs": [
        {
          "output_type": "execute_result",
          "data": {
            "text/plain": [
              "Genero                                         0\n",
              "E1 - Examples of Time Series Analysis          2\n",
              "E4 - Panel Data                                2\n",
              "E6 - Decison Trees                             4\n",
              "E8 - Ensemble Trees Overview                   8\n",
              "E10 - REST-API                                 1\n",
              "E11 - Natural Language Processing Overview    30\n",
              "dtype: int64"
            ]
          },
          "metadata": {
            "tags": []
          },
          "execution_count": 2
        }
      ]
    },
    {
      "cell_type": "code",
      "metadata": {
        "id": "esNSst3tv3u1",
        "colab_type": "code",
        "colab": {
          "base_uri": "https://localhost:8080/",
          "height": 70
        },
        "outputId": "f344883a-6934-4b4b-e052-b0912d6c5463"
      },
      "source": [
        "data['Genero'].value_counts()/46*100"
      ],
      "execution_count": 3,
      "outputs": [
        {
          "output_type": "execute_result",
          "data": {
            "text/plain": [
              "M    78.26087\n",
              "F    21.73913\n",
              "Name: Genero, dtype: float64"
            ]
          },
          "metadata": {
            "tags": []
          },
          "execution_count": 3
        }
      ]
    },
    {
      "cell_type": "code",
      "metadata": {
        "id": "-k9MY9TRv3u5",
        "colab_type": "code",
        "colab": {
          "base_uri": "https://localhost:8080/",
          "height": 374
        },
        "outputId": "6151fe20-ab7a-43ae-d86f-2bfc3d66df87"
      },
      "source": [
        "pd.Series(data[\"Genero\"]).value_counts().plot(kind = \"bar\",figsize=(8,6),rot = 0);"
      ],
      "execution_count": 4,
      "outputs": [
        {
          "output_type": "display_data",
          "data": {
            "image/png": "[encoded data removed]",
            "text/plain": [
              "<Figure size 576x432 with 1 Axes>"
            ]
          },
          "metadata": {
            "tags": [],
            "needs_background": "light"
          }
        }
      ]
    },
    {
      "cell_type": "code",
      "metadata": {
        "id": "VY-lONWXv3vA",
        "colab_type": "code",
        "colab": {}
      },
      "source": [
        "from sklearn.model_selection import train_test_split, cross_val_score\n",
        "from sklearn.feature_extraction.text import CountVectorizer, TfidfVectorizer\n",
        "from sklearn.ensemble import RandomForestClassifier as RFC\n",
        "from nltk.stem.snowball import SnowballStemmer\n",
        "from nltk.stem import WordNetLemmatizer\n",
        "import numpy as np\n",
        "from sklearn.tree import DecisionTreeClassifier"
      ],
      "execution_count": 5,
      "outputs": []
    },
    {
      "cell_type": "code",
      "metadata": {
        "scrolled": false,
        "id": "U2fEmF9Ov3vE",
        "colab_type": "code",
        "colab": {}
      },
      "source": [
        "data =data.rename(columns={\"E1 - Examples of Time Series Analysis\": \"E1\",\n",
        "                     \"E4 - Panel Data\": \"E4\", \n",
        "                     \"E6 - Decison Trees\":\"E6\",\n",
        "                     \"E8 - Ensemble Trees Overview\":\"E8\", \n",
        "                     \"E10 - REST-API\":\"E10\",\n",
        "                     \"E11 - Natural Language Processing Overview\": \"E11\"});"
      ],
      "execution_count": 6,
      "outputs": []
    },
    {
      "cell_type": "markdown",
      "metadata": {
        "id": "VxXu82O-v3vJ",
        "colab_type": "text"
      },
      "source": [
        "### Traducción de los textos de español a inglés\n",
        "\n",
        "\n",
        "Inicialmente realizamos la traducción de los texto de inglés a español pero el diccionario de stopwords no consideramos que era el mejor. De manera que para mejorar la calidad del análisis preferimos la traducción de español a inglés. \n"
      ]
    },
    {
      "cell_type": "code",
      "metadata": {
        "id": "4RsFx1lSyMyP",
        "colab_type": "code",
        "colab": {}
      },
      "source": [
        "#!pip install googletrans;"
      ],
      "execution_count": 7,
      "outputs": []
    },
    {
      "cell_type": "code",
      "metadata": {
        "id": "XgnEfd25v3vK",
        "colab_type": "code",
        "colab": {}
      },
      "source": [
        "import pandas as pd\n",
        "import googletrans\n",
        "from googletrans import Translator\n",
        "translator = Translator()"
      ],
      "execution_count": 8,
      "outputs": []
    },
    {
      "cell_type": "code",
      "metadata": {
        "id": "pXn24bS4v3vO",
        "colab_type": "code",
        "colab": {
          "base_uri": "https://localhost:8080/",
          "height": 106
        },
        "outputId": "3d889676-3165-429c-94cc-c7eb67db16b0"
      },
      "source": [
        "# listado de idiomas\n",
        "lang_df = pd.DataFrame.from_dict(googletrans.LANGUAGES,  orient='index', columns=['Language'])\n",
        "lang_df[lang_df.Language.isin(['english', 'spanish'])] # podemos ver los términos para llamar los idiomas que nos interesan"
      ],
      "execution_count": 9,
      "outputs": [
        {
          "output_type": "execute_result",
          "data": {
            "text/html": [
              "<div>\n",
              "<style scoped>\n",
              "    .dataframe tbody tr th:only-of-type {\n",
              "        vertical-align: middle;\n",
              "    }\n",
              "\n",
              "    .dataframe tbody tr th {\n",
              "        vertical-align: top;\n",
              "    }\n",
              "\n",
              "    .dataframe thead th {\n",
              "        text-align: right;\n",
              "    }\n",
              "</style>\n",
              "<table border=\"1\" class=\"dataframe\">\n",
              "  <thead>\n",
              "    <tr style=\"text-align: right;\">\n",
              "      <th></th>\n",
              "      <th>Language</th>\n",
              "    </tr>\n",
              "  </thead>\n",
              "  <tbody>\n",
              "    <tr>\n",
              "      <th>en</th>\n",
              "      <td>english</td>\n",
              "    </tr>\n",
              "    <tr>\n",
              "      <th>es</th>\n",
              "      <td>spanish</td>\n",
              "    </tr>\n",
              "  </tbody>\n",
              "</table>\n",
              "</div>"
            ],
            "text/plain": [
              "   Language\n",
              "en  english\n",
              "es  spanish"
            ]
          },
          "metadata": {
            "tags": []
          },
          "execution_count": 9
        }
      ]
    },
    {
      "cell_type": "code",
      "metadata": {
        "id": "-AYa7rxav3vT",
        "colab_type": "code",
        "colab": {}
      },
      "source": [
        " # quitamos los caracteres especiales en toda la data\n",
        "cols = ['E1', 'E4', 'E6', 'E8', 'E10', 'E11']\n",
        "data[cols] = data[cols].replace('[)°<&/*\\n\\t0123456789=,.:–(]','', regex=True)"
      ],
      "execution_count": 10,
      "outputs": []
    },
    {
      "cell_type": "code",
      "metadata": {
        "id": "EaU7mpHvv3vY",
        "colab_type": "code",
        "colab": {
          "base_uri": "https://localhost:8080/",
          "height": 140
        },
        "outputId": "15773357-aa2c-4b48-d7c3-94c8e58fa3e5"
      },
      "source": [
        "data=data.fillna('_') # para que la traducción se logre reemplazamos temporalmente los espacios en blanco por un _\n",
        "data.head(2)"
      ],
      "execution_count": 11,
      "outputs": [
        {
          "output_type": "execute_result",
          "data": {
            "text/html": [
              "<div>\n",
              "<style scoped>\n",
              "    .dataframe tbody tr th:only-of-type {\n",
              "        vertical-align: middle;\n",
              "    }\n",
              "\n",
              "    .dataframe tbody tr th {\n",
              "        vertical-align: top;\n",
              "    }\n",
              "\n",
              "    .dataframe thead th {\n",
              "        text-align: right;\n",
              "    }\n",
              "</style>\n",
              "<table border=\"1\" class=\"dataframe\">\n",
              "  <thead>\n",
              "    <tr style=\"text-align: right;\">\n",
              "      <th></th>\n",
              "      <th>Genero</th>\n",
              "      <th>E1</th>\n",
              "      <th>E4</th>\n",
              "      <th>E6</th>\n",
              "      <th>E8</th>\n",
              "      <th>E10</th>\n",
              "      <th>E11</th>\n",
              "    </tr>\n",
              "  </thead>\n",
              "  <tbody>\n",
              "    <tr>\n",
              "      <th>0</th>\n",
              "      <td>M</td>\n",
              "      <td>One of the most valuable application of time s...</td>\n",
              "      <td>The main difference between panel data and tim...</td>\n",
              "      <td>Decision tree are a model used by the analytic...</td>\n",
              "      <td>They are used to make a better prediction than...</td>\n",
              "      <td>Es una forma de arquitectura de datos Los micr...</td>\n",
              "      <td>_</td>\n",
              "    </tr>\n",
              "    <tr>\n",
              "      <th>1</th>\n",
              "      <td>F</td>\n",
              "      <td>ANÁLISIS DE SERIES DE TIEMPO  USOS El análisis...</td>\n",
              "      <td>Series de Tiempo vs Datos en PanelUna serie de...</td>\n",
              "      <td>TIPOS DE ÁRBOLES DE DECISIÓN Y APLICACIONESLos...</td>\n",
              "      <td>ENSAMBLAJE EN MACHINE LEARNINGLos métodos de e...</td>\n",
              "      <td>MicroserviciosEl objetivo principal de la impl...</td>\n",
              "      <td>_</td>\n",
              "    </tr>\n",
              "  </tbody>\n",
              "</table>\n",
              "</div>"
            ],
            "text/plain": [
              "  Genero  ... E11\n",
              "0      M  ...   _\n",
              "1      F  ...   _\n",
              "\n",
              "[2 rows x 7 columns]"
            ]
          },
          "metadata": {
            "tags": []
          },
          "execution_count": 11
        }
      ]
    },
    {
      "cell_type": "code",
      "metadata": {
        "scrolled": true,
        "id": "QIvzacLav3vd",
        "colab_type": "code",
        "colab": {}
      },
      "source": [
        "#realizamos la traducción de todas la columnas pasar a español\n",
        "data['E1'] = data['E1'].apply(translator.translate,src='en',dest='es').apply(getattr, args=('text',))\n",
        "data['E4'] = data['E4'].apply(translator.translate,src='en',dest='es').apply(getattr, args=('text',))\n",
        "data['E6'] = data['E6'].apply(translator.translate,src='en',dest='es').apply(getattr, args=('text',))\n",
        "data['E8'] = data['E8'].apply(translator.translate,src='en',dest='es').apply(getattr, args=('text',))\n",
        "data['E10'] = data['E10'].apply(translator.translate,src='en',dest='es').apply(getattr, args=('text',))\n",
        "data['E11'] = data['E11'].apply(translator.translate,src='en',dest='es').apply(getattr, args=('text',))\n"
      ],
      "execution_count": 12,
      "outputs": []
    },
    {
      "cell_type": "code",
      "metadata": {
        "id": "HjKm9-ysv3vh",
        "colab_type": "code",
        "colab": {
          "base_uri": "https://localhost:8080/",
          "height": 140
        },
        "outputId": "ec19c5a4-fddb-4260-9771-f4818026aa55"
      },
      "source": [
        "# se unifican las tareas en la columna union para hacer el análisis a nivel de estudiante\n",
        "data['union'] = data[cols].apply(lambda row: ' '.join(row.values.astype(str)), axis=1)\n",
        "data.head(2)"
      ],
      "execution_count": 13,
      "outputs": [
        {
          "output_type": "execute_result",
          "data": {
            "text/html": [
              "<div>\n",
              "<style scoped>\n",
              "    .dataframe tbody tr th:only-of-type {\n",
              "        vertical-align: middle;\n",
              "    }\n",
              "\n",
              "    .dataframe tbody tr th {\n",
              "        vertical-align: top;\n",
              "    }\n",
              "\n",
              "    .dataframe thead th {\n",
              "        text-align: right;\n",
              "    }\n",
              "</style>\n",
              "<table border=\"1\" class=\"dataframe\">\n",
              "  <thead>\n",
              "    <tr style=\"text-align: right;\">\n",
              "      <th></th>\n",
              "      <th>Genero</th>\n",
              "      <th>E1</th>\n",
              "      <th>E4</th>\n",
              "      <th>E6</th>\n",
              "      <th>E8</th>\n",
              "      <th>E10</th>\n",
              "      <th>E11</th>\n",
              "      <th>union</th>\n",
              "    </tr>\n",
              "  </thead>\n",
              "  <tbody>\n",
              "    <tr>\n",
              "      <th>0</th>\n",
              "      <td>M</td>\n",
              "      <td>Una de las aplicaciones más valiosas del análi...</td>\n",
              "      <td>La principal diferencia entre los datos del pa...</td>\n",
              "      <td>El árbol de decisión es un modelo utilizado po...</td>\n",
              "      <td>Se utilizan para hacer una mejor predicción qu...</td>\n",
              "      <td>Es una forma de arquitectura de datos Los micr...</td>\n",
              "      <td>_ _</td>\n",
              "      <td>Una de las aplicaciones más valiosas del análi...</td>\n",
              "    </tr>\n",
              "    <tr>\n",
              "      <th>1</th>\n",
              "      <td>F</td>\n",
              "      <td>ANÁLISIS DE SERIES DE TIEMPO USOS El análisis ...</td>\n",
              "      <td>Serie de Tiempo vs Datos en PanelUna serie de ...</td>\n",
              "      <td>TIPOS DE ÁRBOLES DE DECISIÓN Y APLICACIONESLos...</td>\n",
              "      <td>ENSAMBLAJE EN APRENDIZAJE DE MÁQUINAS Los méto...</td>\n",
              "      <td>MicroserviciosEl objetivo principal de la impl...</td>\n",
              "      <td>_ _</td>\n",
              "      <td>ANÁLISIS DE SERIES DE TIEMPO USOS El análisis ...</td>\n",
              "    </tr>\n",
              "  </tbody>\n",
              "</table>\n",
              "</div>"
            ],
            "text/plain": [
              "  Genero  ...                                              union\n",
              "0      M  ...  Una de las aplicaciones más valiosas del análi...\n",
              "1      F  ...  ANÁLISIS DE SERIES DE TIEMPO USOS El análisis ...\n",
              "\n",
              "[2 rows x 8 columns]"
            ]
          },
          "metadata": {
            "tags": []
          },
          "execution_count": 13
        }
      ]
    },
    {
      "cell_type": "markdown",
      "metadata": {
        "id": "JLIMmwVAv3vl",
        "colab_type": "text"
      },
      "source": [
        "##### Ajustamos la data removiendo puntuación, aplicando stopwords, lematización, etc."
      ]
    },
    {
      "cell_type": "code",
      "metadata": {
        "id": "SurNDexRv3vm",
        "colab_type": "code",
        "colab": {}
      },
      "source": [
        "df=data['union']"
      ],
      "execution_count": 14,
      "outputs": []
    },
    {
      "cell_type": "code",
      "metadata": {
        "id": "SViOg3k0v3vq",
        "colab_type": "code",
        "colab": {}
      },
      "source": [
        "def remove_punctuation(text):\n",
        "    import string\n",
        "    translator = str.maketrans('', '', string.punctuation)\n",
        "    return text.translate(translator)"
      ],
      "execution_count": 15,
      "outputs": []
    },
    {
      "cell_type": "code",
      "metadata": {
        "id": "KCy4KP3av3vu",
        "colab_type": "code",
        "colab": {
          "base_uri": "https://localhost:8080/",
          "height": 124
        },
        "outputId": "0651153f-735c-4b70-c595-7ff73e3f3ff6"
      },
      "source": [
        "df = df.apply(remove_punctuation)\n",
        "df.head() # se han eliminado expresiones como el @ y '"
      ],
      "execution_count": 16,
      "outputs": [
        {
          "output_type": "execute_result",
          "data": {
            "text/plain": [
              "0    Una de las aplicaciones más valiosas del análi...\n",
              "1    ANÁLISIS DE SERIES DE TIEMPO USOS El análisis ...\n",
              "2    Una serie de tiempo es una colección de datos ...\n",
              "3    Dado que el análisis de series de tiempo permi...\n",
              "4    El análisis de series temporales se refiere al...\n",
              "Name: union, dtype: object"
            ]
          },
          "metadata": {
            "tags": []
          },
          "execution_count": 16
        }
      ]
    },
    {
      "cell_type": "code",
      "metadata": {
        "id": "DBu6VOCByp3w",
        "colab_type": "code",
        "colab": {}
      },
      "source": [
        "#! pip install nltk\n",
        "#!pip install lemma\n",
        "#!pip install Pattern3"
      ],
      "execution_count": 17,
      "outputs": []
    },
    {
      "cell_type": "code",
      "metadata": {
        "id": "q1NW0mywv3vy",
        "colab_type": "code",
        "colab": {
          "base_uri": "https://localhost:8080/",
          "height": 88
        },
        "outputId": "4da6319e-4c79-4017-c656-fb9a39e589e8"
      },
      "source": [
        "import nltk\n",
        "from nltk.stem import WordNetLemmatizer\n",
        "wordnet_lemmatizer = WordNetLemmatizer()\n",
        "#from pattern.es import lemma\n",
        "from nltk import word_tokenize\n",
        "from nltk.corpus import stopwords\n",
        "from sklearn.feature_extraction.text import CountVectorizer\n",
        "from nltk.stem import WordNetLemmatizer\n",
        "nltk.download('wordnet')\n",
        "nltk.download('stopwords')\n",
        "from nltk.stem.snowball import SnowballStemmer\n",
        "\n"
      ],
      "execution_count": 18,
      "outputs": [
        {
          "output_type": "stream",
          "text": [
            "[nltk_data] Downloading package wordnet to /root/nltk_data...\n",
            "[nltk_data]   Package wordnet is already up-to-date!\n",
            "[nltk_data] Downloading package stopwords to /root/nltk_data...\n",
            "[nltk_data]   Package stopwords is already up-to-date!\n"
          ],
          "name": "stdout"
        }
      ]
    },
    {
      "cell_type": "code",
      "metadata": {
        "id": "P9NQTWlUv3v1",
        "colab_type": "code",
        "colab": {}
      },
      "source": [
        "# define una función que acepta texto y retorna una lista de lemas\n",
        "def split_into_lemmas(text):\n",
        "    text = text.lower()\n",
        "    words = text.split()\n",
        "    return [wordnet_lemmatizer.lemmatize(word) for word in words]"
      ],
      "execution_count": 19,
      "outputs": []
    },
    {
      "cell_type": "code",
      "metadata": {
        "id": "hbZc9DIDv3v5",
        "colab_type": "code",
        "colab": {}
      },
      "source": [
        "stemmer = SnowballStemmer('spanish')\n",
        "\n",
        "def stemming(text):    \n",
        "    '''a function which stems each word in the given text'''\n",
        "    text = [stemmer.stem(word) for word in text.split()]\n",
        "    return \" \".join(text) "
      ],
      "execution_count": 20,
      "outputs": []
    },
    {
      "cell_type": "code",
      "metadata": {
        "id": "PPHZ9MIzv3v8",
        "colab_type": "code",
        "colab": {}
      },
      "source": [
        "df = df.apply(stemming) # se dejan las raices de las palabras"
      ],
      "execution_count": 21,
      "outputs": []
    },
    {
      "cell_type": "code",
      "metadata": {
        "id": "Uqh-RfiMGvkS",
        "colab_type": "code",
        "colab": {
          "base_uri": "https://localhost:8080/",
          "height": 35
        },
        "outputId": "1fb664c7-f62b-45d2-affc-3962dbaf425f"
      },
      "source": [
        "sw = stopwords.words('spanish')  #  este es el listado de stopwords en español\n",
        "np.array(sw)\n",
        "print(\"Number of stopwords: \", len(sw)) # este es el número de stopwords en español"
      ],
      "execution_count": 23,
      "outputs": [
        {
          "output_type": "stream",
          "text": [
            "Number of stopwords:  313\n"
          ],
          "name": "stdout"
        }
      ]
    },
    {
      "cell_type": "code",
      "metadata": {
        "id": "G9LLUMNi-fix",
        "colab_type": "code",
        "colab": {}
      },
      "source": [
        "# A lista actual de stop words le agregamos otras palabras que consideramos no contribuyen en el ánalisis\n",
        "my_additional_stop_words = [\"uso\", \"usos\", \"trata\", \"política\", \"siguientes\", \"vale\", \"pena\", \"IPC\", \"ejemplos\", \"brevemente\", \"cada\", \"puede\", \"pueden\", \"si\", \"ser\",\n",
        "                            \"solo\", \"través\", \"tipo\", \"cuales\"]\n",
        "spanish_stopwords = stopwords.words('spanish')\n",
        "spanish_stopwords\n",
        "spanish_stopwords= spanish_stopwords+my_additional_stop_words\n",
        "spanish_stopwords;\n"
      ],
      "execution_count": 24,
      "outputs": []
    },
    {
      "cell_type": "code",
      "metadata": {
        "id": "43bOv_JVv3wF",
        "colab_type": "code",
        "colab": {
          "base_uri": "https://localhost:8080/",
          "height": 90
        },
        "outputId": "07399ffb-0f40-468a-9ac4-c8f8fb16a7e6"
      },
      "source": [
        "vect = CountVectorizer(stop_words=spanish_stopwords, ngram_range=(1, 2))\n",
        "#vect = CountVectorizer(analyzer=split_into_lemmas,stop_words=stopwords.words('spanish'), ngram_range=(1, 3))\n",
        "X_dtm = vect.fit_transform(df)\n",
        "temp = X_dtm.todense()\n",
        "temp.shape"
      ],
      "execution_count": 25,
      "outputs": [
        {
          "output_type": "stream",
          "text": [
            "/usr/local/lib/python3.6/dist-packages/sklearn/feature_extraction/text.py:385: UserWarning: Your stop_words may be inconsistent with your preprocessing. Tokenizing the stop words generated tokens ['ipc'] not in stop_words.\n",
            "  'stop_words.' % sorted(inconsistent))\n"
          ],
          "name": "stderr"
        },
        {
          "output_type": "execute_result",
          "data": {
            "text/plain": [
              "(46, 28490)"
            ]
          },
          "metadata": {
            "tags": []
          },
          "execution_count": 25
        }
      ]
    },
    {
      "cell_type": "markdown",
      "metadata": {
        "id": "PxRL-H1Lv3wK",
        "colab_type": "text"
      },
      "source": [
        "### La siguiente gráfica muestra las palabras más frecuentes en toda la data"
      ]
    },
    {
      "cell_type": "code",
      "metadata": {
        "id": "v2cVknBWv3wL",
        "colab_type": "code",
        "colab": {
          "base_uri": "https://localhost:8080/",
          "height": 720
        },
        "outputId": "0014e819-c5ad-4cb7-8ce2-42f7dbd3d1f6"
      },
      "source": [
        "#!pip install yellowbrick\n",
        "from yellowbrick.text import FreqDistVisualizer;\n",
        "features   = vect.get_feature_names()\n",
        "visualizer = FreqDistVisualizer(features=features, orient='v')\n",
        "visualizer.fit(X_dtm)\n",
        "#visualizer.show();"
      ],
      "execution_count": 26,
      "outputs": [
        {
          "output_type": "stream",
          "text": [
            "/usr/local/lib/python3.6/dist-packages/sklearn/utils/deprecation.py:144: FutureWarning: The sklearn.metrics.classification module is  deprecated in version 0.22 and will be removed in version 0.24. The corresponding classes / functions should instead be imported from sklearn.metrics. Anything that cannot be imported from sklearn.metrics is now part of the private API.\n",
            "  warnings.warn(message, FutureWarning)\n",
            "/usr/local/lib/python3.6/dist-packages/sklearn/base.py:197: FutureWarning: From version 0.24, get_params will raise an AttributeError if a parameter cannot be retrieved as an instance attribute. Previously it would return None.\n",
            "  FutureWarning)\n"
          ],
          "name": "stderr"
        },
        {
          "output_type": "execute_result",
          "data": {
            "text/plain": [
              "FrequencyVisualizer(ax=<matplotlib.axes._subplots.AxesSubplot object at 0x7f268cdca278>,\n",
              "                    color=None,\n",
              "                    features=['ab', 'ab raftery', 'abaj', 'abaj cad',\n",
              "                              'abaj enfoqu', 'abaj form', 'abaj general',\n",
              "                              'abaj traves', 'abarc', 'abarc camp', 'abarqu',\n",
              "                              'abarqu resuelv', 'abastec', 'abastec diferent',\n",
              "                              'abiert', 'abiert camin', 'abiert deb',\n",
              "                              'abiert microservici', 'abil', 'abil person',\n",
              "                              'abord', 'abord analisis', 'abord diferent',\n",
              "                              'abord problem', 'abord solucion', 'abord vez',\n",
              "                              'abordaj', 'abordaj estrategi', 'abran',\n",
              "                              'abran model', ...],\n",
              "                    n=None, orient='v')"
            ]
          },
          "metadata": {
            "tags": []
          },
          "execution_count": 26
        },
        {
          "output_type": "display_data",
          "data": {
            "image/png": "[encoded data removed]",
            "text/plain": [
              "<Figure size 576x396 with 1 Axes>"
            ]
          },
          "metadata": {
            "tags": []
          }
        }
      ]
    },
    {
      "cell_type": "markdown",
      "metadata": {
        "id": "Z_6CUJ-Jv3wU",
        "colab_type": "text"
      },
      "source": [
        "### Función 'linea' - Palabras por estudiante\n",
        "Esta función nos permite ver graficamente las 10 palabras más frecuente utilizadas por un estudiante. "
      ]
    },
    {
      "cell_type": "code",
      "metadata": {
        "id": "MJwYCVrNv3wU",
        "colab_type": "code",
        "colab": {
          "base_uri": "https://localhost:8080/",
          "height": 422
        },
        "outputId": "30ad2f8a-b261-4a26-da0a-9a1625b4054e"
      },
      "source": [
        "def linea (i):\n",
        "    estudiante = df[[i]]\n",
        "    vect = CountVectorizer(stop_words=spanish_stopwords, ngram_range=(1, 3))\n",
        "    X_dtm = vect.fit_transform(estudiante)\n",
        "    features   = vect.get_feature_names()\n",
        "    visualizer = FreqDistVisualizer(features=features,n=10, orient='v')\n",
        "    visualizer.fit(X_dtm)\n",
        "    #visualizer.show()\n",
        "    \n",
        "linea(12) # se indica el número de fila del estudiante\n",
        "   "
      ],
      "execution_count": 27,
      "outputs": [
        {
          "output_type": "stream",
          "text": [
            "/usr/local/lib/python3.6/dist-packages/sklearn/feature_extraction/text.py:385: UserWarning: Your stop_words may be inconsistent with your preprocessing. Tokenizing the stop words generated tokens ['ipc'] not in stop_words.\n",
            "  'stop_words.' % sorted(inconsistent))\n"
          ],
          "name": "stderr"
        },
        {
          "output_type": "display_data",
          "data": {
            "image/png": "[encoded data removed]",
            "text/plain": [
              "<Figure size 576x396 with 1 Axes>"
            ]
          },
          "metadata": {
            "tags": []
          }
        }
      ]
    },
    {
      "cell_type": "markdown",
      "metadata": {
        "id": "cDe6a04Wv3wY",
        "colab_type": "text"
      },
      "source": [
        "# Exercise 13.2\n",
        "\n",
        "Evaluate the similarities of the homeworks of the students.\n",
        "\n",
        "At a homework level, then as a student level."
      ]
    },
    {
      "cell_type": "code",
      "metadata": {
        "id": "E3V4rJsfv3wZ",
        "colab_type": "code",
        "colab": {}
      },
      "source": [
        "import numpy as np; import pandas as pd\n",
        "from sklearn.metrics.pairwise import cosine_similarity"
      ],
      "execution_count": 28,
      "outputs": []
    },
    {
      "cell_type": "markdown",
      "metadata": {
        "id": "U3B_Tp-rv3we",
        "colab_type": "text"
      },
      "source": [
        "### Análisis tarea E1."
      ]
    },
    {
      "cell_type": "code",
      "metadata": {
        "id": "zTdS-IzBv3we",
        "colab_type": "code",
        "colab": {}
      },
      "source": [
        "E1 = data['E1']\n",
        "E1 = E1.dropna() # se eleminan NA, entonces se debe ser cuidadoso entre el índice y la posición de la matriz de similaridad\n",
        "E1;"
      ],
      "execution_count": 29,
      "outputs": []
    },
    {
      "cell_type": "code",
      "metadata": {
        "id": "lAlBQXtGv3wi",
        "colab_type": "code",
        "colab": {
          "base_uri": "https://localhost:8080/",
          "height": 90
        },
        "outputId": "0a68718f-313b-4871-c6ec-7d76ff538e5f"
      },
      "source": [
        "vect = CountVectorizer(stop_words=spanish_stopwords, max_features=1000) # por default pasa todas las palablas a minuscula (lowercase)\n",
        "E1_dtm = vect.fit_transform(E1)\n",
        "temp=E1_dtm.todense()\n",
        "temp.shape"
      ],
      "execution_count": 30,
      "outputs": [
        {
          "output_type": "stream",
          "text": [
            "/usr/local/lib/python3.6/dist-packages/sklearn/feature_extraction/text.py:385: UserWarning: Your stop_words may be inconsistent with your preprocessing. Tokenizing the stop words generated tokens ['ipc'] not in stop_words.\n",
            "  'stop_words.' % sorted(inconsistent))\n"
          ],
          "name": "stderr"
        },
        {
          "output_type": "execute_result",
          "data": {
            "text/plain": [
              "(46, 1000)"
            ]
          },
          "metadata": {
            "tags": []
          },
          "execution_count": 30
        }
      ]
    },
    {
      "cell_type": "code",
      "metadata": {
        "id": "2EEkOepev3wl",
        "colab_type": "code",
        "colab": {
          "base_uri": "https://localhost:8080/",
          "height": 35
        },
        "outputId": "5d63ab81-592a-4637-e4e7-64d0fa1ca41f"
      },
      "source": [
        "#muestra todas las combianciones del coseno de similaridad de las tareas E1 para los 44 estudiantes que la presentaron\n",
        "cs_E1 = cosine_similarity(temp,temp)  #esta es una matriz simetrica de similaridad del coseno\n",
        "cs_E1.shape"
      ],
      "execution_count": 31,
      "outputs": [
        {
          "output_type": "execute_result",
          "data": {
            "text/plain": [
              "(46, 46)"
            ]
          },
          "metadata": {
            "tags": []
          },
          "execution_count": 31
        }
      ]
    },
    {
      "cell_type": "code",
      "metadata": {
        "id": "KZHA7nPvv3wp",
        "colab_type": "code",
        "colab": {
          "base_uri": "https://localhost:8080/",
          "height": 248
        },
        "outputId": "8fced229-ad35-4e26-9ef7-fc777500b52b"
      },
      "source": [
        "# Dado que la matriz anterior es simétrica, entonces es suficiente con seleccionar la matriz triangular inferior \n",
        "import numpy\n",
        "tri_lower_no_diag = np.tril(cs_E1, k=-1)# matriz triangular inferior\n",
        "tri_lower_no_diag"
      ],
      "execution_count": 32,
      "outputs": [
        {
          "output_type": "execute_result",
          "data": {
            "text/plain": [
              "array([[0.        , 0.        , 0.        , ..., 0.        , 0.        ,\n",
              "        0.        ],\n",
              "       [0.22926455, 0.        , 0.        , ..., 0.        , 0.        ,\n",
              "        0.        ],\n",
              "       [0.30136622, 0.26105345, 0.        , ..., 0.        , 0.        ,\n",
              "        0.        ],\n",
              "       ...,\n",
              "       [0.22645541, 0.31618182, 0.2892233 , ..., 0.        , 0.        ,\n",
              "        0.        ],\n",
              "       [0.21719083, 0.27790204, 0.22398975, ..., 0.27572238, 0.        ,\n",
              "        0.        ],\n",
              "       [0.33245071, 0.15962172, 0.30141157, ..., 0.27071755, 0.18236561,\n",
              "        0.        ]])"
            ]
          },
          "metadata": {
            "tags": []
          },
          "execution_count": 32
        }
      ]
    },
    {
      "cell_type": "code",
      "metadata": {
        "id": "PADS7T3Qv3wu",
        "colab_type": "code",
        "colab": {
          "base_uri": "https://localhost:8080/",
          "height": 35
        },
        "outputId": "018d5ee6-2346-43a5-ebcb-32701a546961"
      },
      "source": [
        "maxElement = numpy.amax(tri_lower_no_diag)\n",
        "print('El coseno de similaridad más alto entre dos estudiantes : ', maxElement)"
      ],
      "execution_count": 33,
      "outputs": [
        {
          "output_type": "stream",
          "text": [
            "El coseno de similaridad más alto entre dos estudiantes :  0.49531088096035586\n"
          ],
          "name": "stdout"
        }
      ]
    },
    {
      "cell_type": "code",
      "metadata": {
        "id": "uPs_ZonHv3wx",
        "colab_type": "code",
        "colab": {
          "base_uri": "https://localhost:8080/",
          "height": 35
        },
        "outputId": "49faaa5f-a41c-4c8f-8e91-0b37fad35e88"
      },
      "source": [
        "resultE1 = numpy.where(tri_lower_no_diag == numpy.amax(tri_lower_no_diag))\n",
        "listOfCordinates = list(zip(resultE1[0], resultE1[1]))\n",
        "for cord in listOfCordinates:\n",
        "    print('Posiciones de la matriz con el mayor coseno de similaridad : ', cord)"
      ],
      "execution_count": 34,
      "outputs": [
        {
          "output_type": "stream",
          "text": [
            "Posiciones de la matriz con el mayor coseno de similaridad :  (40, 2)\n"
          ],
          "name": "stdout"
        }
      ]
    },
    {
      "cell_type": "code",
      "metadata": {
        "id": "hWEwXQ0mv3w1",
        "colab_type": "code",
        "colab": {
          "base_uri": "https://localhost:8080/",
          "height": 70
        },
        "outputId": "6bab0368-a14e-4b89-c037-a5ec76cd4901"
      },
      "source": [
        "#Estás son las dos respuestas más parecidas de la tarea E1\n",
        "Estudiantes_E1=E1.loc[E1.index[[34,16]]]\n",
        "Estudiantes_E1"
      ],
      "execution_count": 35,
      "outputs": [
        {
          "output_type": "execute_result",
          "data": {
            "text/plain": [
              "34    Los siguientes corresponden a ejemplos de las ...\n",
              "16    Casos Reales del Análisis de Series de TiempoU...\n",
              "Name: E1, dtype: object"
            ]
          },
          "metadata": {
            "tags": []
          },
          "execution_count": 35
        }
      ]
    },
    {
      "cell_type": "markdown",
      "metadata": {
        "id": "xMkQXkyFv3w5",
        "colab_type": "text"
      },
      "source": [
        "#### Función tareas\n",
        "A continuación, se presentan la funicón tareas que nos permite identificar los dos estuadiantes con las tareas más similares. \n"
      ]
    },
    {
      "cell_type": "code",
      "metadata": {
        "id": "h-us-LEsv3xW",
        "colab_type": "code",
        "colab": {}
      },
      "source": [
        "def tareas(i):\n",
        "    E = data[i]\n",
        "    E = E.dropna()\n",
        "\n",
        "    vect = CountVectorizer(stop_words=spanish_stopwords, ngram_range=(1, 2), lowercase=True) \n",
        "    E_dtm = vect.fit_transform(E)\n",
        "    temp= E_dtm.todense()\n",
        "\n",
        "    cs_E = cosine_similarity(temp)\n",
        "    Etri_lower_no_diag = np.tril(cs_E, k=-1)# matriz triangular inferior\n",
        "    EmaxElement = numpy.amax(Etri_lower_no_diag)\n",
        "    posicion = numpy.where(Etri_lower_no_diag == numpy.amax(Etri_lower_no_diag))\n",
        "    df_posicion = pd.DataFrame(posicion)\n",
        "    Estudiantes = E.loc[E.index[[df_posicion[0][0] , df_posicion[0][1]]]]\n",
        "\n",
        "    print('Las siguientes son las tareas más parecidas por su coseno de similaridad: ', Estudiantes,  EmaxElement)\n",
        "\n",
        "       # print('Los dos estudiantes más similares en esta tarea son : ', Estudiantes)"
      ],
      "execution_count": 36,
      "outputs": []
    },
    {
      "cell_type": "code",
      "metadata": {
        "id": "rSpVQ0Eav3xc",
        "colab_type": "code",
        "colab": {
          "base_uri": "https://localhost:8080/",
          "height": 126
        },
        "outputId": "ba7904e5-7457-4391-8d6d-d9f0583458d4"
      },
      "source": [
        "tareas('E10') # Indicamos el nombre de la tarea\n"
      ],
      "execution_count": 37,
      "outputs": [
        {
          "output_type": "stream",
          "text": [
            "Las siguientes son las tareas más parecidas por su coseno de similaridad:  42    MicroserviciosEs una funcionalidad empresarial...\n",
            "27    Los microservicios son un enfoque arquitectóni...\n",
            "Name: E10, dtype: object 0.5460108411983262\n"
          ],
          "name": "stdout"
        },
        {
          "output_type": "stream",
          "text": [
            "/usr/local/lib/python3.6/dist-packages/sklearn/feature_extraction/text.py:385: UserWarning: Your stop_words may be inconsistent with your preprocessing. Tokenizing the stop words generated tokens ['ipc'] not in stop_words.\n",
            "  'stop_words.' % sorted(inconsistent))\n"
          ],
          "name": "stderr"
        }
      ]
    },
    {
      "cell_type": "markdown",
      "metadata": {
        "id": "WIEOB38Kv3xv",
        "colab_type": "text"
      },
      "source": [
        "# Exercise 13.3\n",
        "\n",
        "Create a classifier to predict the gender of each student\n",
        "\n"
      ]
    },
    {
      "cell_type": "code",
      "metadata": {
        "id": "odSO_A6R_z5Z",
        "colab_type": "code",
        "colab": {}
      },
      "source": [
        "from sklearn.model_selection import train_test_split, cross_val_score\n",
        "from sklearn.feature_extraction.text import CountVectorizer, TfidfVectorizer\n",
        "from sklearn.ensemble import RandomForestClassifier as RandomForestClassifier\n",
        "from nltk.stem.snowball import SnowballStemmer\n",
        "from nltk.stem import WordNetLemmatizer\n",
        "import numpy as np\n",
        "from sklearn.tree import DecisionTreeClassifier"
      ],
      "execution_count": 38,
      "outputs": []
    },
    {
      "cell_type": "code",
      "metadata": {
        "id": "DdUvEiv9xTi3",
        "colab_type": "code",
        "colab": {
          "base_uri": "https://localhost:8080/",
          "height": 141
        },
        "outputId": "9a17b59f-5328-46b3-da75-bd21926b0ca7"
      },
      "source": [
        "X1=data['union']\n",
        "y = data[['Genero']]\n",
        "y['Genero'] = pd.factorize(data.Genero)[0]\n",
        "X1.shape, y.shape"
      ],
      "execution_count": 39,
      "outputs": [
        {
          "output_type": "stream",
          "text": [
            "/usr/local/lib/python3.6/dist-packages/ipykernel_launcher.py:3: SettingWithCopyWarning: \n",
            "A value is trying to be set on a copy of a slice from a DataFrame.\n",
            "Try using .loc[row_indexer,col_indexer] = value instead\n",
            "\n",
            "See the caveats in the documentation: https://pandas.pydata.org/pandas-docs/stable/user_guide/indexing.html#returning-a-view-versus-a-copy\n",
            "  This is separate from the ipykernel package so we can avoid doing imports until\n"
          ],
          "name": "stderr"
        },
        {
          "output_type": "execute_result",
          "data": {
            "text/plain": [
              "((46,), (46, 1))"
            ]
          },
          "metadata": {
            "tags": []
          },
          "execution_count": 39
        }
      ]
    },
    {
      "cell_type": "code",
      "metadata": {
        "id": "PP1MbOoov3xx",
        "colab_type": "code",
        "colab": {}
      },
      "source": [
        "X1 = X1.apply(remove_punctuation)"
      ],
      "execution_count": 40,
      "outputs": []
    },
    {
      "cell_type": "code",
      "metadata": {
        "id": "4-7nsJW_v3x5",
        "colab_type": "code",
        "colab": {}
      },
      "source": [
        "X1 = X1.apply(stemming)"
      ],
      "execution_count": 41,
      "outputs": []
    },
    {
      "cell_type": "code",
      "metadata": {
        "id": "wEM49BS2v3yA",
        "colab_type": "code",
        "colab": {
          "base_uri": "https://localhost:8080/",
          "height": 304
        },
        "outputId": "9939f414-8588-4a2f-8283-a9d2a3474f63"
      },
      "source": [
        "vectF = TfidfVectorizer(stop_words=spanish_stopwords, ngram_range=(1, 2), min_df=0.1, max_df=0.9) # indicamos los valores min y max del tfidf\n",
        "X_dtmF = vectF.fit_transform(X1)\n",
        "tempF = X_dtmF.todense()\n",
        "tempF"
      ],
      "execution_count": 42,
      "outputs": [
        {
          "output_type": "stream",
          "text": [
            "/usr/local/lib/python3.6/dist-packages/sklearn/feature_extraction/text.py:385: UserWarning: Your stop_words may be inconsistent with your preprocessing. Tokenizing the stop words generated tokens ['ipc'] not in stop_words.\n",
            "  'stop_words.' % sorted(inconsistent))\n"
          ],
          "name": "stderr"
        },
        {
          "output_type": "execute_result",
          "data": {
            "text/plain": [
              "matrix([[0.        , 0.        , 0.        , ..., 0.        , 0.        ,\n",
              "         0.        ],\n",
              "        [0.        , 0.        , 0.        , ..., 0.03617688, 0.        ,\n",
              "         0.        ],\n",
              "        [0.        , 0.        , 0.        , ..., 0.        , 0.        ,\n",
              "         0.        ],\n",
              "        ...,\n",
              "        [0.        , 0.        , 0.        , ..., 0.        , 0.        ,\n",
              "         0.        ],\n",
              "        [0.        , 0.03646693, 0.        , ..., 0.        , 0.        ,\n",
              "         0.03840251],\n",
              "        [0.        , 0.03786934, 0.07975872, ..., 0.        , 0.08126998,\n",
              "         0.        ]])"
            ]
          },
          "metadata": {
            "tags": []
          },
          "execution_count": 42
        }
      ]
    },
    {
      "cell_type": "code",
      "metadata": {
        "id": "k7qRKimOv3yJ",
        "colab_type": "code",
        "colab": {}
      },
      "source": [
        "dataF = pd.DataFrame(tempF, columns=vectF.get_feature_names())# almacena la tabla después del tfidf"
      ],
      "execution_count": 43,
      "outputs": []
    },
    {
      "cell_type": "code",
      "metadata": {
        "id": "flxzr91kv3yN",
        "colab_type": "code",
        "colab": {
          "base_uri": "https://localhost:8080/",
          "height": 232
        },
        "outputId": "a880b245-e5e1-408d-bd6a-24293ffcb8bf"
      },
      "source": [
        "mdl = RandomForestClassifier(n_estimators=10, max_depth=50)\n",
        "print(\"El accuracy de este modelos es: \", np.mean(cross_val_score(mdl, dataF, y, cv=5)))\n"
      ],
      "execution_count": 44,
      "outputs": [
        {
          "output_type": "stream",
          "text": [
            "/usr/local/lib/python3.6/dist-packages/sklearn/model_selection/_validation.py:515: DataConversionWarning: A column-vector y was passed when a 1d array was expected. Please change the shape of y to (n_samples,), for example using ravel().\n",
            "  estimator.fit(X_train, y_train, **fit_params)\n",
            "/usr/local/lib/python3.6/dist-packages/sklearn/model_selection/_validation.py:515: DataConversionWarning: A column-vector y was passed when a 1d array was expected. Please change the shape of y to (n_samples,), for example using ravel().\n",
            "  estimator.fit(X_train, y_train, **fit_params)\n",
            "/usr/local/lib/python3.6/dist-packages/sklearn/model_selection/_validation.py:515: DataConversionWarning: A column-vector y was passed when a 1d array was expected. Please change the shape of y to (n_samples,), for example using ravel().\n",
            "  estimator.fit(X_train, y_train, **fit_params)\n"
          ],
          "name": "stderr"
        },
        {
          "output_type": "stream",
          "text": [
            "El accuracy de este modelos es:  0.7822222222222222\n"
          ],
          "name": "stdout"
        },
        {
          "output_type": "stream",
          "text": [
            "/usr/local/lib/python3.6/dist-packages/sklearn/model_selection/_validation.py:515: DataConversionWarning: A column-vector y was passed when a 1d array was expected. Please change the shape of y to (n_samples,), for example using ravel().\n",
            "  estimator.fit(X_train, y_train, **fit_params)\n",
            "/usr/local/lib/python3.6/dist-packages/sklearn/model_selection/_validation.py:515: DataConversionWarning: A column-vector y was passed when a 1d array was expected. Please change the shape of y to (n_samples,), for example using ravel().\n",
            "  estimator.fit(X_train, y_train, **fit_params)\n"
          ],
          "name": "stderr"
        }
      ]
    },
    {
      "cell_type": "markdown",
      "metadata": {
        "id": "I9eMemQhv3yn",
        "colab_type": "text"
      },
      "source": [
        "# Exercise 13.4\n",
        "Classify group members into different subgroups (minimum 3) according to a characteristic of your choice."
      ]
    },
    {
      "cell_type": "markdown",
      "metadata": {
        "id": "WYUmhTFgOx4K",
        "colab_type": "text"
      },
      "source": [
        "### Dendrograma"
      ]
    },
    {
      "cell_type": "code",
      "metadata": {
        "id": "MILuByu6TxCo",
        "colab_type": "code",
        "colab": {}
      },
      "source": [
        "import numpy as np\n",
        "import matplotlib.pyplot as plt\n",
        "import scipy.cluster.hierarchy as sch\n",
        "from matplotlib.pyplot import figure\n",
        "from sklearn import preprocessing\n",
        "import pandas as pd\n",
        "from scipy.cluster import hierarchy\n",
        "import numpy as np"
      ],
      "execution_count": 45,
      "outputs": []
    },
    {
      "cell_type": "code",
      "metadata": {
        "id": "BVYlK8ZihgdE",
        "colab_type": "code",
        "colab": {
          "base_uri": "https://localhost:8080/",
          "height": 208
        },
        "outputId": "6f4b033e-18c9-46a7-8fd9-707bd69945f7"
      },
      "source": [
        "vectF = CountVectorizer(stop_words=spanish_stopwords, ngram_range=(1, 2), max_features=100) \n",
        "X_dtmF = vectF.fit_transform(X1)\n",
        "tempF = X_dtmF.todense()\n",
        "dataF = pd.DataFrame(tempF, columns=vectF.get_feature_names())\n",
        "\n",
        "dataF.head(2)"
      ],
      "execution_count": 46,
      "outputs": [
        {
          "output_type": "stream",
          "text": [
            "/usr/local/lib/python3.6/dist-packages/sklearn/feature_extraction/text.py:385: UserWarning: Your stop_words may be inconsistent with your preprocessing. Tokenizing the stop words generated tokens ['ipc'] not in stop_words.\n",
            "  'stop_words.' % sorted(inconsistent))\n"
          ],
          "name": "stderr"
        },
        {
          "output_type": "execute_result",
          "data": {
            "text/html": [
              "<div>\n",
              "<style scoped>\n",
              "    .dataframe tbody tr th:only-of-type {\n",
              "        vertical-align: middle;\n",
              "    }\n",
              "\n",
              "    .dataframe tbody tr th {\n",
              "        vertical-align: top;\n",
              "    }\n",
              "\n",
              "    .dataframe thead th {\n",
              "        text-align: right;\n",
              "    }\n",
              "</style>\n",
              "<table border=\"1\" class=\"dataframe\">\n",
              "  <thead>\n",
              "    <tr style=\"text-align: right;\">\n",
              "      <th></th>\n",
              "      <th>afect</th>\n",
              "      <th>aleatori</th>\n",
              "      <th>algoritm</th>\n",
              "      <th>algun</th>\n",
              "      <th>analisis</th>\n",
              "      <th>aplic</th>\n",
              "      <th>aprendizaj</th>\n",
              "      <th>arbol</th>\n",
              "      <th>arbol decision</th>\n",
              "      <th>arquitectur</th>\n",
              "      <th>automat</th>\n",
              "      <th>bas</th>\n",
              "      <th>cad</th>\n",
              "      <th>caracterist</th>\n",
              "      <th>cas</th>\n",
              "      <th>clasif</th>\n",
              "      <th>com</th>\n",
              "      <th>combin</th>\n",
              "      <th>component</th>\n",
              "      <th>comport</th>\n",
              "      <th>conjunt</th>\n",
              "      <th>constru</th>\n",
              "      <th>cre</th>\n",
              "      <th>cuand</th>\n",
              "      <th>dat</th>\n",
              "      <th>dat panel</th>\n",
              "      <th>deb</th>\n",
              "      <th>decision</th>\n",
              "      <th>desarroll</th>\n",
              "      <th>diferent</th>\n",
              "      <th>dond</th>\n",
              "      <th>ejempl</th>\n",
              "      <th>ensamblaj</th>\n",
              "      <th>entren</th>\n",
              "      <th>especif</th>\n",
              "      <th>exist</th>\n",
              "      <th>facil</th>\n",
              "      <th>form</th>\n",
              "      <th>funcion</th>\n",
              "      <th>gener</th>\n",
              "      <th>...</th>\n",
              "      <th>obten</th>\n",
              "      <th>panel</th>\n",
              "      <th>par</th>\n",
              "      <th>part</th>\n",
              "      <th>per</th>\n",
              "      <th>period</th>\n",
              "      <th>permit</th>\n",
              "      <th>pod</th>\n",
              "      <th>posibl</th>\n",
              "      <th>predec</th>\n",
              "      <th>prediccion</th>\n",
              "      <th>principal</th>\n",
              "      <th>problem</th>\n",
              "      <th>proces</th>\n",
              "      <th>product</th>\n",
              "      <th>pued</th>\n",
              "      <th>realiz</th>\n",
              "      <th>regresion</th>\n",
              "      <th>result</th>\n",
              "      <th>seri</th>\n",
              "      <th>seri tiemp</th>\n",
              "      <th>servici</th>\n",
              "      <th>sistem</th>\n",
              "      <th>sobr</th>\n",
              "      <th>softwar</th>\n",
              "      <th>sol</th>\n",
              "      <th>tambien</th>\n",
              "      <th>tecnic</th>\n",
              "      <th>ten</th>\n",
              "      <th>tiemp</th>\n",
              "      <th>tien</th>\n",
              "      <th>tip</th>\n",
              "      <th>tod</th>\n",
              "      <th>tom</th>\n",
              "      <th>traves</th>\n",
              "      <th>utiliz</th>\n",
              "      <th>valor</th>\n",
              "      <th>vari</th>\n",
              "      <th>variabl</th>\n",
              "      <th>vent</th>\n",
              "    </tr>\n",
              "  </thead>\n",
              "  <tbody>\n",
              "    <tr>\n",
              "      <th>0</th>\n",
              "      <td>0</td>\n",
              "      <td>4</td>\n",
              "      <td>2</td>\n",
              "      <td>9</td>\n",
              "      <td>5</td>\n",
              "      <td>11</td>\n",
              "      <td>1</td>\n",
              "      <td>12</td>\n",
              "      <td>6</td>\n",
              "      <td>1</td>\n",
              "      <td>1</td>\n",
              "      <td>3</td>\n",
              "      <td>9</td>\n",
              "      <td>0</td>\n",
              "      <td>1</td>\n",
              "      <td>0</td>\n",
              "      <td>7</td>\n",
              "      <td>1</td>\n",
              "      <td>1</td>\n",
              "      <td>1</td>\n",
              "      <td>4</td>\n",
              "      <td>0</td>\n",
              "      <td>1</td>\n",
              "      <td>4</td>\n",
              "      <td>14</td>\n",
              "      <td>2</td>\n",
              "      <td>7</td>\n",
              "      <td>11</td>\n",
              "      <td>1</td>\n",
              "      <td>7</td>\n",
              "      <td>0</td>\n",
              "      <td>2</td>\n",
              "      <td>0</td>\n",
              "      <td>0</td>\n",
              "      <td>1</td>\n",
              "      <td>0</td>\n",
              "      <td>1</td>\n",
              "      <td>6</td>\n",
              "      <td>2</td>\n",
              "      <td>1</td>\n",
              "      <td>...</td>\n",
              "      <td>1</td>\n",
              "      <td>2</td>\n",
              "      <td>24</td>\n",
              "      <td>3</td>\n",
              "      <td>0</td>\n",
              "      <td>1</td>\n",
              "      <td>3</td>\n",
              "      <td>2</td>\n",
              "      <td>2</td>\n",
              "      <td>2</td>\n",
              "      <td>6</td>\n",
              "      <td>3</td>\n",
              "      <td>2</td>\n",
              "      <td>2</td>\n",
              "      <td>1</td>\n",
              "      <td>2</td>\n",
              "      <td>0</td>\n",
              "      <td>1</td>\n",
              "      <td>3</td>\n",
              "      <td>7</td>\n",
              "      <td>4</td>\n",
              "      <td>2</td>\n",
              "      <td>1</td>\n",
              "      <td>2</td>\n",
              "      <td>0</td>\n",
              "      <td>3</td>\n",
              "      <td>3</td>\n",
              "      <td>7</td>\n",
              "      <td>1</td>\n",
              "      <td>7</td>\n",
              "      <td>3</td>\n",
              "      <td>1</td>\n",
              "      <td>4</td>\n",
              "      <td>1</td>\n",
              "      <td>0</td>\n",
              "      <td>7</td>\n",
              "      <td>5</td>\n",
              "      <td>2</td>\n",
              "      <td>5</td>\n",
              "      <td>3</td>\n",
              "    </tr>\n",
              "    <tr>\n",
              "      <th>1</th>\n",
              "      <td>1</td>\n",
              "      <td>0</td>\n",
              "      <td>1</td>\n",
              "      <td>4</td>\n",
              "      <td>4</td>\n",
              "      <td>9</td>\n",
              "      <td>3</td>\n",
              "      <td>11</td>\n",
              "      <td>5</td>\n",
              "      <td>1</td>\n",
              "      <td>1</td>\n",
              "      <td>2</td>\n",
              "      <td>2</td>\n",
              "      <td>1</td>\n",
              "      <td>2</td>\n",
              "      <td>2</td>\n",
              "      <td>11</td>\n",
              "      <td>3</td>\n",
              "      <td>5</td>\n",
              "      <td>2</td>\n",
              "      <td>2</td>\n",
              "      <td>2</td>\n",
              "      <td>4</td>\n",
              "      <td>3</td>\n",
              "      <td>8</td>\n",
              "      <td>0</td>\n",
              "      <td>2</td>\n",
              "      <td>7</td>\n",
              "      <td>4</td>\n",
              "      <td>2</td>\n",
              "      <td>0</td>\n",
              "      <td>2</td>\n",
              "      <td>6</td>\n",
              "      <td>1</td>\n",
              "      <td>1</td>\n",
              "      <td>1</td>\n",
              "      <td>6</td>\n",
              "      <td>0</td>\n",
              "      <td>0</td>\n",
              "      <td>2</td>\n",
              "      <td>...</td>\n",
              "      <td>5</td>\n",
              "      <td>1</td>\n",
              "      <td>22</td>\n",
              "      <td>3</td>\n",
              "      <td>4</td>\n",
              "      <td>7</td>\n",
              "      <td>12</td>\n",
              "      <td>0</td>\n",
              "      <td>1</td>\n",
              "      <td>0</td>\n",
              "      <td>3</td>\n",
              "      <td>4</td>\n",
              "      <td>1</td>\n",
              "      <td>2</td>\n",
              "      <td>3</td>\n",
              "      <td>14</td>\n",
              "      <td>10</td>\n",
              "      <td>3</td>\n",
              "      <td>5</td>\n",
              "      <td>11</td>\n",
              "      <td>7</td>\n",
              "      <td>1</td>\n",
              "      <td>0</td>\n",
              "      <td>5</td>\n",
              "      <td>0</td>\n",
              "      <td>0</td>\n",
              "      <td>1</td>\n",
              "      <td>2</td>\n",
              "      <td>5</td>\n",
              "      <td>11</td>\n",
              "      <td>5</td>\n",
              "      <td>4</td>\n",
              "      <td>2</td>\n",
              "      <td>3</td>\n",
              "      <td>0</td>\n",
              "      <td>1</td>\n",
              "      <td>6</td>\n",
              "      <td>2</td>\n",
              "      <td>7</td>\n",
              "      <td>6</td>\n",
              "    </tr>\n",
              "  </tbody>\n",
              "</table>\n",
              "<p>2 rows × 100 columns</p>\n",
              "</div>"
            ],
            "text/plain": [
              "   afect  aleatori  algoritm  algun  ...  valor  vari  variabl  vent\n",
              "0      0         4         2      9  ...      5     2        5     3\n",
              "1      1         0         1      4  ...      6     2        7     6\n",
              "\n",
              "[2 rows x 100 columns]"
            ]
          },
          "metadata": {
            "tags": []
          },
          "execution_count": 46
        }
      ]
    },
    {
      "cell_type": "markdown",
      "metadata": {
        "id": "GqnXo23EXFgV",
        "colab_type": "text"
      },
      "source": [
        "Con el dendograma (utilizando distancia euclideana) podemos identificar 3 **grupos de estudiantes**, demarcados por la línea horizontal al gráfico.\n",
        "Los tres grupos de estudiantes y sus etiquetas, obtenidos utilizando  el dendograma y el AgglomerativeClustering son: \n",
        "Grupo 1: 29,9,31,8 y 13\n",
        "Grupo 2: 16, 30, 4, 3, 38\n",
        "Gropo 0: los restantes"
      ]
    },
    {
      "cell_type": "code",
      "metadata": {
        "id": "RU17MsLTOgd2",
        "colab_type": "code",
        "colab": {}
      },
      "source": [
        "X= dataF\n",
        "pd.DataFrame(X.columns)\n",
        "X = X.iloc[:, 1:].values\n",
        "X = preprocessing.scale(X) # Se re escalan las variables"
      ],
      "execution_count": 50,
      "outputs": []
    },
    {
      "cell_type": "code",
      "metadata": {
        "id": "R-KsbEaHh0a9",
        "colab_type": "code",
        "colab": {
          "base_uri": "https://localhost:8080/",
          "height": 401
        },
        "outputId": "21fceaab-713c-4e9b-d8fd-fa4948c756e0"
      },
      "source": [
        "figure(num=None, figsize=(14, 4), dpi=100, facecolor='w', edgecolor='k')\n",
        "dendrogram = sch.dendrogram(sch.linkage(X, method  = \"ward\"))\n",
        "plt.axhline(y=65, color='y', linestyle='--')\n",
        "plt.title('Dendrogram')\n",
        "plt.xlabel('Estudiantes')\n",
        "plt.ylabel('Euclidean distances')\n",
        "plt.show()"
      ],
      "execution_count": 51,
      "outputs": [
        {
          "output_type": "display_data",
          "data": {
            "image/png": "[encoded data removed]",
            "text/plain": [
              "<Figure size 1400x400 with 1 Axes>"
            ]
          },
          "metadata": {
            "tags": []
          }
        }
      ]
    },
    {
      "cell_type": "markdown",
      "metadata": {
        "id": "YEqbSAgoadPC",
        "colab_type": "text"
      },
      "source": [
        "Ahora, queremos agrupar los puntos de datos en estos tres clústeres. Para hacerlo, utilizaremos AgglomerativeClustering"
      ]
    },
    {
      "cell_type": "code",
      "metadata": {
        "id": "7lsjztBBYhY6",
        "colab_type": "code",
        "colab": {
          "base_uri": "https://localhost:8080/",
          "height": 70
        },
        "outputId": "9ce8860c-2fe0-4d12-a5f4-1eef748b8663"
      },
      "source": [
        "# Ajustando Clustering Jerárquico al conjunto de datos\n",
        "from sklearn.cluster import AgglomerativeClustering\n",
        "hc = AgglomerativeClustering(n_clusters = 3, affinity = 'euclidean', linkage = 'ward')\n",
        "y_hc = hc.fit_predict(X)\n",
        "y_hc #muestra las tres etiquetas de datos de los grupos"
      ],
      "execution_count": 52,
      "outputs": [
        {
          "output_type": "execute_result",
          "data": {
            "text/plain": [
              "array([2, 2, 2, 0, 0, 2, 2, 2, 1, 1, 1, 2, 2, 1, 2, 2, 0, 2, 2, 2, 2, 2,\n",
              "       2, 2, 2, 2, 2, 2, 2, 1, 0, 1, 2, 2, 2, 2, 2, 2, 0, 2, 2, 2, 2, 2,\n",
              "       2, 2])"
            ]
          },
          "metadata": {
            "tags": []
          },
          "execution_count": 52
        }
      ]
    },
    {
      "cell_type": "code",
      "metadata": {
        "id": "iSSQT6QBiRQ9",
        "colab_type": "code",
        "colab": {
          "base_uri": "https://localhost:8080/",
          "height": 364
        },
        "outputId": "ee5f3f08-99c6-4599-d99d-aa682db248af"
      },
      "source": [
        "#se visualizan los tres grupos de estudiantes similares según las palabras utilizadas por ellos\n",
        "eje_x = 4\n",
        "eje_y = 7\n",
        "figure(num=None, figsize=(3, 3), dpi=120, facecolor='w', edgecolor='k')\n",
        "plt.scatter(X[y_hc==0, eje_x], X[y_hc==0, eje_y], s=50, c='red', label ='Cluster 1', marker='o')\n",
        "plt.scatter(X[y_hc==1, eje_x], X[y_hc==1, eje_y], s=50, c='blue', label ='Cluster 2',marker='x')\n",
        "plt.scatter(X[y_hc==2, eje_x], X[y_hc==2, eje_y], s=50, c='green', label ='Cluster 3',marker='h')\n",
        "plt.title('Clusters de estudiantes (Hierarchical Clustering Model)')\n",
        "plt.show()\n"
      ],
      "execution_count": 53,
      "outputs": [
        {
          "output_type": "display_data",
          "data": {
            "image/png": "[encoded data removed]",
            "text/plain": [
              "<Figure size 360x360 with 1 Axes>"
            ]
          },
          "metadata": {
            "tags": []
          }
        }
      ]
    },
    {
      "cell_type": "code",
      "metadata": {
        "id": "HLZyFASCaUpy",
        "colab_type": "code",
        "colab": {}
      },
      "source": [
        ""
      ],
      "execution_count": null,
      "outputs": []
    }
  ]
}
